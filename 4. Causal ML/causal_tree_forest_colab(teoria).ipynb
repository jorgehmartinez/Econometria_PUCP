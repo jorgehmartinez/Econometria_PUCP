{
  "cells": [
    {
      "cell_type": "code",
      "execution_count": null,
      "id": "42dcfd1e",
      "metadata": {
        "id": "42dcfd1e",
        "outputId": "66c13c41-f578-495f-f3c0-6c706a217be8"
      },
      "outputs": [
        {
          "ename": "ModuleNotFoundError",
          "evalue": "No module named 'CTL'",
          "output_type": "error",
          "traceback": [
            "\u001b[0;31m---------------------------------------------------------------------------\u001b[0m",
            "\u001b[0;31mModuleNotFoundError\u001b[0m                       Traceback (most recent call last)",
            "Cell \u001b[0;32mIn [1], line 18\u001b[0m\n\u001b[1;32m     14\u001b[0m \u001b[38;5;28;01mfrom\u001b[39;00m \u001b[38;5;21;01mitertools\u001b[39;00m \u001b[38;5;28;01mimport\u001b[39;00m chain\n\u001b[1;32m     16\u001b[0m \u001b[38;5;28;01mfrom\u001b[39;00m \u001b[38;5;21;01mSyncRNG\u001b[39;00m \u001b[38;5;28;01mimport\u001b[39;00m SyncRNG\n\u001b[0;32m---> 18\u001b[0m \u001b[38;5;28;01mfrom\u001b[39;00m \u001b[38;5;21;01mCTL\u001b[39;00m\u001b[38;5;21;01m.\u001b[39;00m\u001b[38;5;21;01mcausal_tree_learn\u001b[39;00m \u001b[38;5;28;01mimport\u001b[39;00m CausalTree\n\u001b[1;32m     19\u001b[0m \u001b[38;5;28;01mfrom\u001b[39;00m \u001b[38;5;21;01msklearn\u001b[39;00m\u001b[38;5;21;01m.\u001b[39;00m\u001b[38;5;21;01mmodel_selection\u001b[39;00m \u001b[38;5;28;01mimport\u001b[39;00m train_test_split\n\u001b[1;32m     20\u001b[0m \u001b[38;5;28;01mimport\u001b[39;00m \u001b[38;5;21;01mplotnine\u001b[39;00m \u001b[38;5;28;01mas\u001b[39;00m \u001b[38;5;21;01mp\u001b[39;00m\n",
            "\u001b[0;31mModuleNotFoundError\u001b[0m: No module named 'CTL'"
          ]
        }
      ],
      "source": [
        "import random\n",
        "import pandas as pd\n",
        "import numpy as np\n",
        "from scipy.stats import norm\n",
        "\n",
        "import statsmodels.api as sm\n",
        "import statsmodels.formula.api as smf\n",
        "import patsy\n",
        "from SyncRNG import SyncRNG\n",
        "import numpy as np\n",
        "import re\n",
        "from statsmodels.sandbox.stats.multicomp import multipletests\n",
        "from scipy import linalg\n",
        "from itertools import chain\n",
        "\n",
        "from SyncRNG import SyncRNG\n",
        "\n",
        "from CTL.causal_tree_learn import CausalTree\n",
        "from sklearn.model_selection import train_test_split\n",
        "import plotnine as p\n",
        "import seaborn as sns\n",
        "import matplotlib.pyplot as plt\n",
        "import matplotlib.patches as mpatches\n",
        "\n",
        "import warnings\n",
        "warnings.filterwarnings('ignore')"
      ]
    },
    {
      "cell_type": "markdown",
      "id": "b0f01b36",
      "metadata": {
        "id": "b0f01b36"
      },
      "source": [
        "# HTE I: Binary treatment\n",
        "\n",
        "Source RMD file: [link](https://docs.google.com/uc?export=download&id=1FSUi4WLfYYKnvWsNWypiQORhkqf5IlFP)\n",
        "\n",
        "In the previous chapter, we learned how to estimate the effect of a binary treatment averaged over the entire population. However, the average may obscure important details about how different individuals react to the treatment. In this chapter, we will learn how to estimate the **conditional average treatment effect (CATE)**,\n",
        "\n",
        "$$\n",
        "  \\tau(x) := \\mathbf{E}[Y_i(1) - Y_i(0) | X_i = x],\n",
        "$$ (cate)\n",
        "\n",
        "which is a \"localized\" version of the average treatment effect conditional on a vector of observable characteristics.\n",
        "\n",
        "It's often the case that {eq}`cate` is too general to be immediately useful, especially when the observable covariates are high-dimensional. It can be hard to estimate reliably without making strong modeling assumptions, and hard to summarize in a useful manner after estimation. In such situations, we will instead try to estimate treatment effect averages for simpler groups\n",
        "\n",
        "$$\n",
        "  \\mathbf{E}[Y_i(1) - Y_i(0) | G_i = g],\n",
        "$$ (cate-g)\n",
        "\n",
        "where $G_i$ indexes subgroups of interest. Below you'll learn how to estimate and test hypotheses about pre-defined subgroups, and also how to discover subgroups of interest from the data. In this tutorial, you will learn how to use estimates of {eq}`cate` to suggest relevant subgroups $G_i$ (and in the next chapters you will find out other uses of {eq}`cate` in policy learning and evaluation).\n",
        "\n",
        "We'll continue using the abridged version of the General Social Survey (GSS) [(Smith, 2016)](https://gss.norc.org/Documents/reports/project-reports/GSSProject%20report32.pdf) dataset that was introduced in the previous chapter. In this dataset, individuals were sent to treatment or control with equal probability, so we are in a randomized setting. However, many of the techniques and code shown below should also work in an observational setting provided that unconfoundedness and overlap are satisfied (these assumptions were defined in the previous chapter)."
      ]
    },
    {
      "cell_type": "markdown",
      "id": "8a981637",
      "metadata": {
        "id": "8a981637"
      },
      "source": [
        "As with other chapters in this tutorial, the code below should still work by replacing the next snippet of code with a different dataset, provided that you update the key variables `treatment`, `outcome`, and `covariates` below. Also, please make sure to read the comments as they may be subtle differences depending on whether your dataset was created in a randomized or observational setting."
      ]
    },
    {
      "cell_type": "code",
      "execution_count": null,
      "id": "48366a00",
      "metadata": {
        "id": "48366a00"
      },
      "outputs": [],
      "source": [
        "data = pd.read_csv( \"https://docs.google.com/uc?id=1kSxrVci_EUcSr_Lg1JKk1l7Xd5I9zfRC&export=download\" )\n",
        "\n",
        "n = data.shape[0]\n",
        "\n",
        "# Treatment: does the the gov't spend too much on \"welfare\" (1) or \"assistance to the poor\" (0)\n",
        "treatment = \"w\"\n",
        "\n",
        "# Outcome: 1 for 'yes', 0 for 'no'\n",
        "outcome = \"y\"\n",
        "\n",
        "# Additional covariates\n",
        "covariates = [\"age\", \"polviews\", \"income\", \"educ\", \"marital\", \"sex\"]"
      ]
    },
    {
      "cell_type": "markdown",
      "id": "01bfb00e",
      "metadata": {
        "id": "01bfb00e"
      },
      "source": [
        "## Pre-specified hypotheses\n",
        "\n",
        "We will begin by learning how to test pre-specified null hypotheses of the form\n",
        "\n",
        "$$\n",
        "  H_{0}: \\mathbf{E}[Y(1) - Y(0) | G_i = 1] = \\mathbf{E}[Y(1) - Y(0) | G_i = 0].\n",
        "$$ (hte-hyp)\n",
        "\n",
        "That is, that the treatment effect is the same regardless of membership to some group\n",
        "$G_i$. Importantly, for now we’ll assume that the group $G_i$ was **pre-specified** -- it was decided _before_ looking at the data.\n",
        "\n",
        "In a randomized setting, if the both the treatment  $W_i$ and group membership $G_i$ are binary, we can write\n",
        "\n",
        "$$\n",
        "  \\mathbf{E}[Y_i(W_i)|G_i] = \\mathbf{E}[Y_i|W_i, G_i] = \\beta_0 + \\beta_w W_i + \\beta_g G_i + \\beta_{wg} W_i G_i\n",
        "$$ (linear)\n",
        "\n",
        "<font size=1>\n",
        "When $W_i$ and $G_i$ are binary, this decomposition is true without loss of generality. Why?\n",
        "</font>\n",
        "\n",
        "This allows us to write the average effects of $W_i$ and $G_i$ on $Y_i$ as\n",
        "\n",
        "$$\n",
        "  \\begin{aligned}\n",
        "    \\mathbf{E}[Y(1) | G_i=1] &= \\beta_0 + \\beta_w W_i + \\beta_g G_i + \\beta_{wg} W_i G_i, \\\\\n",
        "    \\mathbf{E}[Y(1) | G_i=0] &= \\beta_0 + \\beta_w W_i,  \\\\\n",
        "    \\mathbf{E}[Y(0) | G_i=1] &= \\beta_0 + \\beta_g G_i,  \\\\\n",
        "    \\mathbf{E}[Y(0) | G_i=0] &= \\beta_0.\n",
        "  \\end{aligned}\n",
        "$$ (decomp)\n",
        "\n",
        "Rewriting the null hypothesis {eq}`hte-hyp` in terms of the decomposition {eq}`decomp`, we see that it boils down to a test about the coefficient in the interaction: $\\beta_{xw} = 0$. Here’s an example that tests whether the treatment effect is the same for \"conservative\" (`polviews` < 4) and \"liberal\" (`polviews` $\\geq$ 4) individuals."
      ]
    },
    {
      "cell_type": "code",
      "execution_count": null,
      "id": "8c8ae044",
      "metadata": {
        "id": "8c8ae044",
        "outputId": "28cf1532-11ad-43e3-f798-a5a1ae1d2ca1"
      },
      "outputs": [
        {
          "name": "stdout",
          "output_type": "stream",
          "text": [
            "                               Test for Constraints                               \n",
            "==================================================================================\n",
            "                     coef    std err          z      P>|z|      [0.025      0.975]\n",
            "----------------------------------------------------------------------------------\n",
            "Intercept          0.4836      0.005     95.127      0.000       0.474       0.494\n",
            "w                 -0.3789      0.006    -64.657      0.000      -0.390      -0.367\n",
            "conservative      -0.1590      0.009    -17.195      0.000      -0.177      -0.141\n",
            "w:conservative     0.1160      0.010     11.185      0.000       0.096       0.136\n",
            "==================================================================================\n"
          ]
        }
      ],
      "source": [
        "# Only valid in randomized settings\n",
        "\n",
        "# Suppose this his group was defined prior to collecting the data\n",
        "data[\"conservative\"] = np.multiply(data.polviews < 4, 1)  # a binary group\n",
        "group = 'conservative'\n",
        "\n",
        "# Recall from last chapter -- this is equivalent to running a t-test\n",
        "fmla = 'y ~ w*conservative'\n",
        "ols = smf.ols(fmla, data=data).fit(cov_type='HC2')\n",
        "# print(ols_1.summary())\n",
        "hypotheses = 'Intercept=0, w=0, conservative=0, w:conservative=0'\n",
        "t_test = ols.t_test(hypotheses)\n",
        "print(t_test.summary(xname=list(ols.summary2().tables[1].index)))"
      ]
    },
    {
      "cell_type": "markdown",
      "id": "688f14d9",
      "metadata": {
        "id": "688f14d9"
      },
      "source": [
        "<font size=1>\n",
        "Interpret the results above. The coefficient $\\beta_{xw}$ is denoted by `w:conservativeTRUE`. Can we detect a difference in treatment effect for conservative vs liberal individuals? For whom is the effect larger?\n",
        "</font>\n",
        "\n",
        "\n",
        "Sometimes there are many subgroups, leading to multiple hypotheses such as\n",
        "\n",
        "$$\n",
        "H_0: \\mathbf{E}[Y(1) - Y(0) \\ | \\  G_i = 1] = \\mathbf{E}[Y(1) - Y(0) \\ | \\  G_i = g]\n",
        "\\qquad\n",
        "\\text{for many values of }g.\n",
        "$$ (mult-hyp)\n",
        "\n",
        "In that case, we need to correct for the fact that we are testing for multiple hypotheses, or we will end up with many false positives. The **Bonferroni correction** [(wiki)](https://en.wikipedia.org/wiki/Bonferroni_correction) is a common method for dealing with multiple hypothesis testing, though it is often too conservative to be useful. It is available via the function `p.adjust` from base `R`. The next snippet of code tests whether the treatment effect at each level of `polviews` is different from the treatment effect from `polviews` equals one."
      ]
    },
    {
      "cell_type": "code",
      "execution_count": null,
      "id": "f0d32977",
      "metadata": {
        "id": "f0d32977",
        "outputId": "71d5f6b9-9419-44b8-ee46-9ab9f70f2b71"
      },
      "outputs": [
        {
          "data": {
            "text/html": [
              "<div>\n",
              "<style scoped>\n",
              "    .dataframe tbody tr th:only-of-type {\n",
              "        vertical-align: middle;\n",
              "    }\n",
              "\n",
              "    .dataframe tbody tr th {\n",
              "        vertical-align: top;\n",
              "    }\n",
              "\n",
              "    .dataframe thead th {\n",
              "        text-align: right;\n",
              "    }\n",
              "</style>\n",
              "<table border=\"1\" class=\"dataframe\">\n",
              "  <thead>\n",
              "    <tr style=\"text-align: right;\">\n",
              "      <th></th>\n",
              "      <th>Estimate</th>\n",
              "      <th>Std.Err.</th>\n",
              "      <th>unadj_p_value</th>\n",
              "      <th>adj_p_value</th>\n",
              "    </tr>\n",
              "  </thead>\n",
              "  <tbody>\n",
              "    <tr>\n",
              "      <th>w:C(polviews)[T.2]</th>\n",
              "      <td>-0.024242</td>\n",
              "      <td>0.027337</td>\n",
              "      <td>3.751982e-01</td>\n",
              "      <td>1.000000e+00</td>\n",
              "    </tr>\n",
              "    <tr>\n",
              "      <th>w:C(polviews)[T.3]</th>\n",
              "      <td>-0.059623</td>\n",
              "      <td>0.027357</td>\n",
              "      <td>2.929996e-02</td>\n",
              "      <td>1.757997e-01</td>\n",
              "    </tr>\n",
              "    <tr>\n",
              "      <th>w:C(polviews)[T.4]</th>\n",
              "      <td>-0.134614</td>\n",
              "      <td>0.025340</td>\n",
              "      <td>1.082607e-07</td>\n",
              "      <td>6.495642e-07</td>\n",
              "    </tr>\n",
              "    <tr>\n",
              "      <th>w:C(polviews)[T.5]</th>\n",
              "      <td>-0.164915</td>\n",
              "      <td>0.027135</td>\n",
              "      <td>1.220112e-09</td>\n",
              "      <td>7.320672e-09</td>\n",
              "    </tr>\n",
              "    <tr>\n",
              "      <th>w:C(polviews)[T.6]</th>\n",
              "      <td>-0.180079</td>\n",
              "      <td>0.027514</td>\n",
              "      <td>5.952137e-11</td>\n",
              "      <td>3.571282e-10</td>\n",
              "    </tr>\n",
              "    <tr>\n",
              "      <th>w:C(polviews)[T.7]</th>\n",
              "      <td>-0.186184</td>\n",
              "      <td>0.038706</td>\n",
              "      <td>1.507202e-06</td>\n",
              "      <td>9.043211e-06</td>\n",
              "    </tr>\n",
              "  </tbody>\n",
              "</table>\n",
              "</div>"
            ],
            "text/plain": [
              "                    Estimate  Std.Err.  unadj_p_value   adj_p_value\n",
              "w:C(polviews)[T.2] -0.024242  0.027337   3.751982e-01  1.000000e+00\n",
              "w:C(polviews)[T.3] -0.059623  0.027357   2.929996e-02  1.757997e-01\n",
              "w:C(polviews)[T.4] -0.134614  0.025340   1.082607e-07  6.495642e-07\n",
              "w:C(polviews)[T.5] -0.164915  0.027135   1.220112e-09  7.320672e-09\n",
              "w:C(polviews)[T.6] -0.180079  0.027514   5.952137e-11  3.571282e-10\n",
              "w:C(polviews)[T.7] -0.186184  0.038706   1.507202e-06  9.043211e-06"
            ]
          },
          "execution_count": 4,
          "metadata": {},
          "output_type": "execute_result"
        }
      ],
      "source": [
        "# Only valid in randomized setting.\n",
        "\n",
        "# Example: these groups must be defined prior to collecting the data.\n",
        "group = 'polviews'\n",
        "\n",
        "# Linear regression.\n",
        "fmla = 'y ~ w*C(polviews)'\n",
        "ols = smf.ols(fmla, data=data).fit(cov_type='HC2')\n",
        "\n",
        "# Retrieve the interaction coefficients\n",
        "ols_1 = ols.summary2().tables[1].reset_index()\n",
        "interact = ols_1.loc[ols_1[\"index\"].str.contains(\"w:\")]\n",
        "\n",
        "hypothesis_1 = []\n",
        "for i in list(interact['index']):\n",
        "    hypothesis_1.append(i+str('=0'))\n",
        "hypotheses = hypothesis_1\n",
        "t_test = ols.t_test(hypotheses)\n",
        "# print(t_test.summary(xname=list(interact['index'])))\n",
        "\n",
        "# Retrieve unadjusted p-values and\n",
        "unadj_p_value = list(interact[\"P>|z|\"])\n",
        "p_adjusted = list(multipletests(unadj_p_value, alpha=0.05, method='bonferroni')[1])\n",
        "\n",
        "pd.DataFrame(zip(interact[\"Coef.\"], interact[\"Std.Err.\"], unadj_p_value, p_adjusted),\n",
        "               columns =['Estimate', 'Std.Err.', 'unadj_p_value', 'adj_p_value'],\n",
        "            index = list(interact[\"index\"]))"
      ]
    },
    {
      "cell_type": "code",
      "execution_count": null,
      "id": "30fe6dff",
      "metadata": {
        "id": "30fe6dff"
      },
      "outputs": [],
      "source": [
        "# Define a function which turn a list or vector-like object into a proper two\n",
        "# dimensional column vector\n",
        "\n",
        "def cvec(a):\n",
        "    \"\"\" Turn a list or vector-like object into a proper column vector\n",
        "    Input\n",
        "    a: List or vector-like object, has to be a potential input for np.array()\n",
        "    Output\n",
        "    vec: two dimensional NumPy array, with the first dimension weakly greater\n",
        "         than the second (resulting in a column vector for a vector-like input)\n",
        "    \"\"\"\n",
        "    # Conver input into a two dimensional NumPy array\n",
        "    vec = np.array(a, ndmin=2)\n",
        "\n",
        "    # Check whether the second dimension is strictly greater than the first\n",
        "    # (remembering Python's zero indexing)\n",
        "    if vec.shape[0] < vec.shape[1]:\n",
        "        # If so, transpose the input vector\n",
        "        vec = vec.T\n",
        "\n",
        "    # Return the column vector\n",
        "    return vec\n"
      ]
    },
    {
      "cell_type": "code",
      "execution_count": null,
      "id": "6642786d",
      "metadata": {
        "id": "6642786d"
      },
      "outputs": [],
      "source": [
        "def get_cov(X, e, add_intercept=True, homoskedastic=False):\n",
        "    \"\"\" Calculates OLS variance estimator based on X and residuals\n",
        "    Inputs\n",
        "    X: n by k matrix, RHS variables\n",
        "    e: n by 1 vector or vector-like, residuals from an OLS regression\n",
        "    add_intercept: Boolean, if True, adds an intercept as the first column of X\n",
        "                   (and increases k by one)\n",
        "    Outputs\n",
        "    V_hat: k by k NumPy array, estimated covariance matrix\n",
        "    \"\"\"\n",
        "    # Get the number of observations n and parameters k\n",
        "    n, k = X.shape\n",
        "\n",
        "    # Check whether an intercept needs to be added\n",
        "    if add_intercept:\n",
        "        # If so, add the intercept\n",
        "        X = np.concatenate([np.ones(shape=(n,1)), X], axis=1)\n",
        "\n",
        "        # Don't forget to increase k\n",
        "        k = k + 1\n",
        "\n",
        "    # Make sure the residuals are a proper column vector\n",
        "    e = cvec(e)\n",
        "\n",
        "    # Calculate X'X\n",
        "    XX = X.T @ X\n",
        "\n",
        "    # Calculate its inverse\n",
        "    XXinv = linalg.inv(XX)\n",
        "\n",
        "    # Check whether to use homoskedastic errors\n",
        "    if homoskedastic:\n",
        "        # If so, calculate the homoskedastic variance estimator\n",
        "        V_hat = (1 / (n-k)) * XXinv * (e.T @ e)\n",
        "    else:\n",
        "        # Otherwise, calculate an intermediate object\n",
        "        S = (e @ np.ones(shape=(1,k))) * X\n",
        "\n",
        "        # Then, get the HC0 sandwich estimator\n",
        "        V_hat = (n / (n-k)) * XXinv @ (S.transpose() @ S) @ XXinv\n",
        "\n",
        "    # Return the result\n",
        "    return V_hat"
      ]
    },
    {
      "cell_type": "code",
      "execution_count": null,
      "id": "8cd6f865",
      "metadata": {
        "id": "8cd6f865"
      },
      "outputs": [],
      "source": [
        "# Auxiliary function to computes adjusted p-values\n",
        "# following the Romano-Wolf method.\n",
        "# For a reference, see http://ftp.iza.org/dp12845.pdf page 8\n",
        "#  t.orig: vector of t-statistics from original model\n",
        "#  t.boot: matrix of t-statistics from bootstrapped models\n",
        "\n",
        "\n",
        "def romano_wolf_correction(t_orig, t_boot):\n",
        "    abs_t_orig = np.absolute(t_orig)\n",
        "    abs_t_boot = np.absolute(t_boot)\n",
        "    abs_t_sorted = sorted(abs_t_orig, key = float, reverse=True)\n",
        "\n",
        "    max_order = (-np.array(abs_t_orig)).argsort()\n",
        "    rev_order = np.argsort(max_order)\n",
        "\n",
        "    M = t_boot.shape[0]\n",
        "    S = t_boot.shape[1]\n",
        "\n",
        "    p_adj = list(np.repeat(0, S))\n",
        "    p_adj[0] = np.mean(pd.DataFrame(abs_t_boot).apply(np.max, axis=1) > abs_t_sorted[0])\n",
        "\n",
        "    for s in range(1,S):\n",
        "        cur_index = max_order[s:S]\n",
        "        p_init = np.mean(\n",
        "            pd.DataFrame(abs_t_boot).T.iloc[cur_index].T.apply(np.max, axis=1) > abs_t_sorted[s])\n",
        "        p_adj[s] = np.max(p_init, p_adj[s])\n",
        "\n",
        "    aux = []\n",
        "    for i in rev_order:\n",
        "        aux.append(p_adj[i])\n",
        "\n",
        "    p_adj = aux\n",
        "\n",
        "    return(p_adj)"
      ]
    },
    {
      "cell_type": "code",
      "execution_count": null,
      "id": "82e97b49",
      "metadata": {
        "id": "82e97b49"
      },
      "outputs": [],
      "source": [
        "# Computes adjusted p-values for linear regression (lm) models.\n",
        "#    model: object of lm class (i.e., a linear reg model)\n",
        "#    indices: vector of integers for the coefficients that will be tested\n",
        "#    cov.type: type of standard error (to be passed to sandwich::vcovHC)\n",
        "#    num.boot: number of null bootstrap samples. Increase to stabilize across runs.\n",
        "# Note: results are probabilitistic and may change slightly at every run.\n",
        "#\n",
        "# Adapted from the p_adjust from from the hdm package, written by Philipp Bach.\n",
        "# https://github.com/PhilippBach/hdm_prev/blob/master/R/p_adjust.R\n",
        "\n",
        "def summary_rw_lm(model, indices='', cov_type=\"HC2\", num_boot=10000):\n",
        "    SyncRNG(seed = 123456)\n",
        "\n",
        "    # OLS without correction\n",
        "\n",
        "    # Grab the original t values.\n",
        "    ols = smf.ols(fmla, data=data).fit()\n",
        "    ols = ols.summary2().tables[1].reset_index()\n",
        "    summary = ols[ols['index'].isin(list(indices[\"index\"]))]\n",
        "    t_orig = summary['t']\n",
        "\n",
        "    # Null resampling.\n",
        "    # This is a trick to speed up bootstrapping linear models.\n",
        "    # Here, we don't really need to re-fit linear regressions, which would be a bit slow.\n",
        "    # We know that betahat ~ N(beta, Sigma), and we have an estimate Sigmahat.\n",
        "    # So we can approximate \"null t-values\" by\n",
        "    #  - Draw beta.boot ~ N(0, Sigma-hat) --- note the 0 here, this is what makes it a *null* t-value.\n",
        "    #  - Compute t.boot = beta.boot / sqrt(diag(Sigma.hat))\n",
        "\n",
        "    ols = smf.ols(fmla, data=data).fit(cov_type = cov_type)\n",
        "    ols_exog = smf.ols(fmla, data=data).exog\n",
        "    ols_res = smf.ols(fmla, data=data).fit().resid\n",
        "    Sigma_hat = get_cov(ols_exog, ols_res, add_intercept=False)\n",
        "\n",
        "    se_orig = pd.Series(np.sqrt(Sigma_hat.diagonal()))\n",
        "\n",
        "    num_coef = len(se_orig)\n",
        "\n",
        "    beta_boot = pd.DataFrame(\n",
        "                np.random.multivariate_normal(\n",
        "                mean=np.repeat(0, num_coef), cov=Sigma_hat, size=num_boot))\n",
        "\n",
        "    t_boot = np.array(beta_boot.apply(lambda row: row / se_orig, axis=1))\n",
        "    t_boot = t_boot.T[(len(ols_1)-len(t_orig)):len(ols_1)].T\n",
        "\n",
        "    p_adj = romano_wolf_correction(t_orig, t_boot)\n",
        "    result = summary[['index','Coef.','Std.Err.','P>|t|']]\n",
        "    result.rename(columns={'P>|t|': 'Orig.p-value'}, inplace=True)\n",
        "    result['Adj. p-value'] = p_adj\n",
        "\n",
        "    return(result)"
      ]
    },
    {
      "cell_type": "code",
      "execution_count": null,
      "id": "d12ea81d",
      "metadata": {
        "id": "d12ea81d",
        "outputId": "50d67cce-e808-4dbf-ec81-165b7c7aedc7"
      },
      "outputs": [
        {
          "name": "stderr",
          "output_type": "stream",
          "text": [
            "C:\\Users\\Roberto\\AppData\\Local\\Temp\\ipykernel_19960\\909325009.py:48: SettingWithCopyWarning: \n",
            "A value is trying to be set on a copy of a slice from a DataFrame\n",
            "\n",
            "See the caveats in the documentation: https://pandas.pydata.org/pandas-docs/stable/user_guide/indexing.html#returning-a-view-versus-a-copy\n",
            "C:\\Users\\Roberto\\AppData\\Local\\Temp\\ipykernel_19960\\909325009.py:49: SettingWithCopyWarning: \n",
            "A value is trying to be set on a copy of a slice from a DataFrame.\n",
            "Try using .loc[row_indexer,col_indexer] = value instead\n",
            "\n",
            "See the caveats in the documentation: https://pandas.pydata.org/pandas-docs/stable/user_guide/indexing.html#returning-a-view-versus-a-copy\n"
          ]
        },
        {
          "data": {
            "text/html": [
              "<div>\n",
              "<style scoped>\n",
              "    .dataframe tbody tr th:only-of-type {\n",
              "        vertical-align: middle;\n",
              "    }\n",
              "\n",
              "    .dataframe tbody tr th {\n",
              "        vertical-align: top;\n",
              "    }\n",
              "\n",
              "    .dataframe thead th {\n",
              "        text-align: right;\n",
              "    }\n",
              "</style>\n",
              "<table border=\"1\" class=\"dataframe\">\n",
              "  <thead>\n",
              "    <tr style=\"text-align: right;\">\n",
              "      <th></th>\n",
              "      <th>index</th>\n",
              "      <th>Coef.</th>\n",
              "      <th>Std.Err.</th>\n",
              "      <th>Orig.p-value</th>\n",
              "      <th>Adj. p-value</th>\n",
              "    </tr>\n",
              "  </thead>\n",
              "  <tbody>\n",
              "    <tr>\n",
              "      <th>8</th>\n",
              "      <td>w:C(polviews)[T.2]</td>\n",
              "      <td>-0.024242</td>\n",
              "      <td>0.030348</td>\n",
              "      <td>4.244098e-01</td>\n",
              "      <td>0.4235</td>\n",
              "    </tr>\n",
              "    <tr>\n",
              "      <th>9</th>\n",
              "      <td>w:C(polviews)[T.3]</td>\n",
              "      <td>-0.059623</td>\n",
              "      <td>0.030150</td>\n",
              "      <td>4.798896e-02</td>\n",
              "      <td>0.0764</td>\n",
              "    </tr>\n",
              "    <tr>\n",
              "      <th>10</th>\n",
              "      <td>w:C(polviews)[T.4]</td>\n",
              "      <td>-0.134614</td>\n",
              "      <td>0.028228</td>\n",
              "      <td>1.862258e-06</td>\n",
              "      <td>0.0000</td>\n",
              "    </tr>\n",
              "    <tr>\n",
              "      <th>11</th>\n",
              "      <td>w:C(polviews)[T.5]</td>\n",
              "      <td>-0.164915</td>\n",
              "      <td>0.029575</td>\n",
              "      <td>2.481093e-08</td>\n",
              "      <td>0.0000</td>\n",
              "    </tr>\n",
              "    <tr>\n",
              "      <th>12</th>\n",
              "      <td>w:C(polviews)[T.6]</td>\n",
              "      <td>-0.180079</td>\n",
              "      <td>0.029660</td>\n",
              "      <td>1.284150e-09</td>\n",
              "      <td>0.0000</td>\n",
              "    </tr>\n",
              "    <tr>\n",
              "      <th>13</th>\n",
              "      <td>w:C(polviews)[T.7]</td>\n",
              "      <td>-0.186184</td>\n",
              "      <td>0.037904</td>\n",
              "      <td>9.063658e-07</td>\n",
              "      <td>0.0000</td>\n",
              "    </tr>\n",
              "  </tbody>\n",
              "</table>\n",
              "</div>"
            ],
            "text/plain": [
              "                 index     Coef.  Std.Err.  Orig.p-value  Adj. p-value\n",
              "8   w:C(polviews)[T.2] -0.024242  0.030348  4.244098e-01        0.4235\n",
              "9   w:C(polviews)[T.3] -0.059623  0.030150  4.798896e-02        0.0764\n",
              "10  w:C(polviews)[T.4] -0.134614  0.028228  1.862258e-06        0.0000\n",
              "11  w:C(polviews)[T.5] -0.164915  0.029575  2.481093e-08        0.0000\n",
              "12  w:C(polviews)[T.6] -0.180079  0.029660  1.284150e-09        0.0000\n",
              "13  w:C(polviews)[T.7] -0.186184  0.037904  9.063658e-07        0.0000"
            ]
          },
          "execution_count": 9,
          "metadata": {},
          "output_type": "execute_result"
        }
      ],
      "source": [
        "# This linear regression is only valid in a randomized setting.\n",
        "fmla = 'y ~ w*C(polviews)'\n",
        "ols = smf.ols(fmla, data=data).fit()\n",
        "ols = ols.summary2().tables[1].reset_index()\n",
        "interact = ols.loc[ols_1[\"index\"].str.contains(\"w:\")]\n",
        "\n",
        "# Applying the romano-wolf correction.\n",
        "summary_rw_lm(ols, indices=interact)"
      ]
    },
    {
      "cell_type": "markdown",
      "id": "890520f4",
      "metadata": {
        "id": "890520f4"
      },
      "source": [
        "<font size=1>\n",
        "Compare the adjusted p-values under Romano-Wolf with those obtained via Bonferroni above.\n",
        "</font>\n",
        "\n",
        "The Bonferroni and Romano-Wolf methods control the **familywise error rate (FWER)**, which is the (asymptotic) probability of rejecting even one true null hypothesis. In other words, for a significance level $\\alpha$, they guarantee that with probability $1 - \\alpha$ we will make zero false discoveries. However, when the number of hypotheses being tested is very large, this criterion may be so stringent that it prevents us from being able to detect real effects. Instead, there exist alternative procedures that control the (asymptotic) **false discovery rate (FDR)**, defined as the expected proportion of true null hypotheses rejected among all hypotheses rejected. One such procedure is the Benjamini-Hochberg procedure, which is available in base R via `p.adjust(..., method=\"BH\")`. For what remains we'll stick with FWER control, but keep in mind that FDR control can also useful in exploratory analyses or settings in which there's a very large number of hypotheses under consideration.\n",
        "\n",
        "As in the previous chapter, when working with observational data under unconfoundedness and overlap, one can use AIPW scores  $\\hat{\\Gamma}_i$ in place of the raw outcomes  $Y_i$. In the next snippet, we construct AIPW scores using the `causal_forest` function from the `grf` package."
      ]
    },
    {
      "cell_type": "markdown",
      "id": "bda9acb7",
      "metadata": {
        "id": "bda9acb7"
      },
      "source": [
        "## Data-driven hypotheses\n",
        "\n",
        "Pre-specifying hypotheses prior to looking at the data is in general good practice to avoid \"p-hacking\" (e.g., slicing the data into different subgroups until a significant result is found). However, valid tests can also be attained if by **sample splitting**: we can use a subset of the sample to find promising subgroups, then test hypotheses about these subgroups in the remaining sample. This kind of sample splitting for hypothesis testing is called **honesty**.\n",
        "\n",
        "### Via causal trees\n",
        "\n",
        "**Causal trees** [(Athey and Imbens)](PNAS, 2016)](https://www.pnas.org/content/pnas/113/27/7353.full.pdf) are an intuitive algorithm that is available in the randomized setting to discover subgroups with different treatment effects.\n",
        "\n",
        "At a high level, the idea is to divide the sample into three subsets (not necessarily of equal size). The `splitting` subset is used to fit a decision tree whose objective is modified to maximize heterogeneity in treatment effect estimates across leaves. The `estimation` subset is then used to produce a valid estimate of the treatment effect at each leaf of the fitted tree. Finally, a `test` subset can be used to validate the tree estimates.\n",
        "\n",
        "The next snippet uses `honest.causalTree` function from the [`causalTree`](https://github.com/susanathey/causalTree) package. For more details, see the [causalTree documentation](https://github.com/susanathey/causalTree/blob/master/briefintro.pdf)."
      ]
    },
    {
      "cell_type": "code",
      "execution_count": null,
      "id": "e3854add",
      "metadata": {
        "id": "e3854add"
      },
      "outputs": [],
      "source": [
        "import econml\n",
        "# Main imports\n",
        "from econml.orf import DMLOrthoForest, DROrthoForest\n",
        "from econml.dml import CausalForestDML\n",
        "from econml.grf import CausalForest\n",
        "from econml.sklearn_extensions.linear_model import WeightedLassoCVWrapper, WeightedLasso, WeightedLassoCV\n",
        "from sklearn.linear_model import MultiTaskLassoCV\n",
        "# Helper imports\n",
        "import numpy as np\n",
        "from itertools import product\n",
        "from sklearn.linear_model import Lasso, LassoCV, LogisticRegression, LogisticRegressionCV\n",
        "import matplotlib.pyplot as plt\n",
        "from sklearn.tree import DecisionTreeRegressor\n",
        "from sklearn.ensemble import RandomForestRegressor\n",
        "from econml.grf import RegressionForest\n",
        "%matplotlib inline\n",
        "import patsy\n",
        "import seaborn as sns"
      ]
    },
    {
      "cell_type": "code",
      "execution_count": null,
      "id": "e33dc449",
      "metadata": {
        "id": "e33dc449"
      },
      "outputs": [],
      "source": [
        "from scipy.sparse import csr_matrix\n",
        "from scipy import sparse"
      ]
    },
    {
      "cell_type": "code",
      "execution_count": null,
      "id": "f6882240",
      "metadata": {
        "id": "f6882240"
      },
      "outputs": [],
      "source": [
        "split = np.array_split(list(data.index),3)\n",
        "\n",
        "X_train = data.loc[split[0],['age','polviews', 'income','educ','marital','sex']]\n",
        "y_train = data.loc[split[0],'y']\n",
        "T_train =data.loc[split[0],'w']\n",
        "\n",
        "X_est = data.loc[split[1],['age','polviews', 'income','educ','marital','sex']]\n",
        "y_est = data.loc[split[1],'y']\n",
        "T_est =data.loc[split[1],'w']\n",
        "\n",
        "X_test = data.loc[split[2],['age','polviews', 'income','educ','marital','sex']]\n",
        "y_test = data.loc[split[2],'y']\n",
        "T_test =data.loc[split[2],'w']"
      ]
    },
    {
      "cell_type": "code",
      "execution_count": null,
      "id": "20c19c8a",
      "metadata": {
        "id": "20c19c8a",
        "outputId": "aebf977b-142d-4e1b-8864-42693c2fffb2"
      },
      "outputs": [
        {
          "data": {
            "text/plain": [
              "CausalForest(inference=False, max_depth=50, min_samples_leaf=170,\n",
              "             n_estimators=1, random_state=123, subforest_size=1)"
            ]
          },
          "execution_count": 124,
          "metadata": {},
          "output_type": "execute_result"
        }
      ],
      "source": [
        "# Preparing data to fit a causal forest\n",
        "\n",
        "#fmla = '0+age+polviews+income+educ+marital+sex'\n",
        "#matrix = patsy.dmatrix(fmla, data, return_type = \"dataframe\")\n",
        "\n",
        "#T = data.loc[ : ,\"w\"]\n",
        "#Y = data.loc[ : ,\"y\"]X = matrix\n",
        "\n",
        "\n",
        "# Estimate a causal tree using Causal Forest library\n",
        "\n",
        "ctree = CausalForest(n_estimators=1, min_samples_leaf=170,\n",
        "                       max_depth=50, inference = False,\n",
        "                       verbose=0, random_state=123,subforest_size=1)\n",
        "\n",
        "ctree.fit(X_train, T_train, y_train)"
      ]
    },
    {
      "cell_type": "code",
      "execution_count": null,
      "id": "13c747f7",
      "metadata": {
        "id": "13c747f7",
        "outputId": "8ca6e0e4-fb33-44f2-e277-db51a27d1501"
      },
      "outputs": [
        {
          "name": "stdout",
          "output_type": "stream",
          "text": [
            "9\n"
          ]
        },
        {
          "name": "stderr",
          "output_type": "stream",
          "text": [
            "\n",
            "A value is trying to be set on a copy of a slice from a DataFrame.\n",
            "Try using .loc[row_indexer,col_indexer] = value instead\n",
            "\n",
            "See the caveats in the documentation: https://pandas.pydata.org/pandas-docs/stable/user_guide/indexing.html#returning-a-view-versus-a-copy\n",
            "\n",
            "A value is trying to be set on a copy of a slice from a DataFrame.\n",
            "Try using .loc[row_indexer,col_indexer] = value instead\n",
            "\n",
            "See the caveats in the documentation: https://pandas.pydata.org/pandas-docs/stable/user_guide/indexing.html#returning-a-view-versus-a-copy\n",
            "\n",
            "A value is trying to be set on a copy of a slice from a DataFrame.\n",
            "Try using .loc[row_indexer,col_indexer] = value instead\n",
            "\n",
            "See the caveats in the documentation: https://pandas.pydata.org/pandas-docs/stable/user_guide/indexing.html#returning-a-view-versus-a-copy\n"
          ]
        }
      ],
      "source": [
        "num_leaves = len(np.unique(ctree.predict(X_est))) # number of leaves\n",
        "\n",
        "print(num_leaves)\n",
        "\n",
        "tau_hat = ctree.predict(X_est).flatten() # convert from N- array to 1-array\n",
        "\n",
        "labels = [i for i in range(1,len(np.unique(tau_hat )) + 1 ) ] # label by each leaf\n",
        "\n",
        "# Prediction grouped by each leaf\n",
        "\n",
        "predict1 = data.iloc[split[1],:]\n",
        "predict1['tau_hat'] = tau_hat.tolist()\n",
        "predict1['leaves'] = pd.Categorical(tau_hat)\n",
        "predict1['leaves'] = predict1['leaves'].cat.rename_categories(labels)"
      ]
    },
    {
      "cell_type": "code",
      "execution_count": null,
      "id": "eae37280",
      "metadata": {
        "id": "eae37280",
        "outputId": "054f0ae1-2f68-4d13-940b-74380a8d4914"
      },
      "outputs": [
        {
          "name": "stdout",
          "output_type": "stream",
          "text": [
            "               index     Coef.  Std.Err.  Orig.p-value  Adj. p-value\n",
            "10  w:C(leaves)[T.2] -0.006448  0.030429      0.832177        0.9931\n",
            "11  w:C(leaves)[T.3] -0.013501  0.037021      0.715365        0.9972\n",
            "12  w:C(leaves)[T.4]  0.015477  0.030218      0.608546        0.9957\n",
            "13  w:C(leaves)[T.5] -0.018966  0.036730      0.605610        0.9965\n",
            "14  w:C(leaves)[T.6]  0.001973  0.030663      0.948692        0.9960\n",
            "15  w:C(leaves)[T.7]  0.002009  0.031635      0.949363        0.9455\n",
            "16  w:C(leaves)[T.8] -0.011408  0.042844      0.790039        0.9966\n",
            "17  w:C(leaves)[T.9] -0.019500  0.039154      0.618466        0.9923\n"
          ]
        },
        {
          "name": "stderr",
          "output_type": "stream",
          "text": [
            "\n",
            "A value is trying to be set on a copy of a slice from a DataFrame\n",
            "\n",
            "See the caveats in the documentation: https://pandas.pydata.org/pandas-docs/stable/user_guide/indexing.html#returning-a-view-versus-a-copy\n",
            "\n",
            "A value is trying to be set on a copy of a slice from a DataFrame.\n",
            "Try using .loc[row_indexer,col_indexer] = value instead\n",
            "\n",
            "See the caveats in the documentation: https://pandas.pydata.org/pandas-docs/stable/user_guide/indexing.html#returning-a-view-versus-a-copy\n"
          ]
        }
      ],
      "source": [
        "# This is only valid in randomized datasets.\n",
        "\n",
        "if num_leaves == 1 :\n",
        "\n",
        "    print(\"Skipping since there's a single leaf.\")\n",
        "\n",
        "elif num_leaves == 2 :\n",
        "\n",
        "    fmla = 'y ~ w*C(leaves)'\n",
        "    ols = smf.ols(fmla, data=predict1).fit()\n",
        "    ols = ols.summary2().tables[1].reset_index()\n",
        "    summary = ols.loc[ols[\"index\"].str.contains(\"w:\")]\n",
        "    result = summary[['index','Coef.','Std.Err.','P>|t|']]\n",
        "    result.rename(columns={'P>|t|': 'Orig.p-value'}, inplace=True)\n",
        "\n",
        "else:\n",
        "\n",
        "# This linear regression is only valid in a randomized setting.\n",
        "\n",
        "    fmla = 'y ~ w*C(leaves)'\n",
        "    ols = smf.ols(fmla, data=predict1).fit()\n",
        "    ols = ols.summary2().tables[1].reset_index()\n",
        "    interact = ols.loc[ols[\"index\"].str.contains(\"w:\")]\n",
        "\n",
        "    # Applying the romano-wolf correction.\n",
        "    print(summary_rw_lm(ols, indices=interact))"
      ]
    },
    {
      "cell_type": "code",
      "execution_count": null,
      "id": "a6852051",
      "metadata": {
        "id": "a6852051",
        "outputId": "2109cb64-b77c-4a87-abb2-7bbbc3dd801c"
      },
      "outputs": [
        {
          "name": "stderr",
          "output_type": "stream",
          "text": [
            "The frame.append method is deprecated and will be removed from pandas in a future version. Use pandas.concat instead.\n",
            "The frame.append method is deprecated and will be removed from pandas in a future version. Use pandas.concat instead.\n",
            "The frame.append method is deprecated and will be removed from pandas in a future version. Use pandas.concat instead.\n",
            "The frame.append method is deprecated and will be removed from pandas in a future version. Use pandas.concat instead.\n",
            "The frame.append method is deprecated and will be removed from pandas in a future version. Use pandas.concat instead.\n",
            "The frame.append method is deprecated and will be removed from pandas in a future version. Use pandas.concat instead.\n"
          ]
        },
        {
          "data": {
            "text/plain": [
              "[Text(0.5, 0, 'Leaf1'),\n",
              " Text(1.5, 0, 'Leaf2'),\n",
              " Text(2.5, 0, 'Leaf3'),\n",
              " Text(3.5, 0, 'Leaf4'),\n",
              " Text(4.5, 0, 'Leaf5'),\n",
              " Text(5.5, 0, 'Leaf6'),\n",
              " Text(6.5, 0, 'Leaf7'),\n",
              " Text(7.5, 0, 'Leaf8'),\n",
              " Text(8.5, 0, 'Leaf9')]"
            ]
          },
          "execution_count": 144,
          "metadata": {},
          "output_type": "execute_result"
        },
        {
          "data": {
            "image/png": "[encoded data removed]",
            "text/plain": [
              "<Figure size 720x720 with 2 Axes>"
            ]
          },
          "metadata": {
            "filenames": {
              "image/png": "/home/runner/work/mgtecon634_py/mgtecon634_py/_build/jupyter_execute/notebooks/4_heterogeneous_treatment_effect_1_21_2.png"
            },
            "needs_background": "light"
          },
          "output_type": "display_data"
        }
      ],
      "source": [
        "df = pd.DataFrame()\n",
        "\n",
        "for var_name in covariates:\n",
        "    form2 = var_name + \" ~ \" + \"0\" + \"+\" + \"C(leaves)\"\n",
        "    ols = smf.ols(formula=form2, data=predict1).fit(cov_type = 'HC2').summary2().tables[1].iloc[:, 0:2]\n",
        "\n",
        "\n",
        "    # Retrieve results\n",
        "    toget_index = ols[\"Coef.\"]\n",
        "    index = toget_index.index\n",
        "    cova1 = pd.Series(np.repeat(var_name,num_leaves), index = index, name = \"covariate\")\n",
        "    avg = pd.Series(ols[\"Coef.\"], name=\"avg\")\n",
        "    stderr = pd.Series(ols[\"Std.Err.\"], name = \"stderr\")\n",
        "    leaves = pd.Series(np.arange(1,num_leaves+1), index = index, name = \"leaves\")\n",
        "    scaling = pd.Series(norm.cdf((avg - np.mean(avg))/np.std(avg)), index = index, name = \"scaling\")\n",
        "    data2 = pd.DataFrame(data=X, columns= covariates)\n",
        "    variation1= np.std(avg) / np.std(data2[var_name])\n",
        "    variation = pd.Series(np.repeat(variation1, num_leaves), index = index, name = \"variation\")\n",
        "    labels = pd.Series(round(avg,2).astype('str') + \"\\n\" + \"(\" + round(stderr, 2).astype('str') + \")\", index = index, name = \"labels\")\n",
        "\n",
        "    # Tally up results\n",
        "    df1 = pd.DataFrame(data = [cova1, avg, stderr, leaves, scaling, variation, labels]).T\n",
        "    df = df.append(df1)\n",
        "\n",
        "# a small optional trick to ensure heatmap will be in decreasing order of 'variation'\n",
        "df = df.sort_values(by = [\"variation\", \"covariate\"], ascending = False)\n",
        "\n",
        "df = df.iloc[0:(8*num_leaves), :]\n",
        "df1 = df.pivot(index = \"covariate\", columns = \"leaves\", values = [\"scaling\"]).astype(float)\n",
        "labels =  df.pivot(index = \"covariate\", columns = \"leaves\", values = [\"labels\"]).to_numpy()\n",
        "\n",
        "# plot heatmap\n",
        "ax = plt.subplots(figsize=(10, 10))\n",
        "ax = sns.heatmap(df1,\n",
        "                 annot=labels,\n",
        "                 annot_kws={\"size\": 12, 'color':\"k\"},\n",
        "                 fmt = '',\n",
        "                 cmap = \"YlGn\",\n",
        "                 linewidths=0,\n",
        "                 xticklabels = leaves)\n",
        "plt.tick_params( axis='y', labelsize=15, length=0, labelrotation=0)\n",
        "plt.tick_params( axis='x', labelsize=15, length=0, labelrotation=0)\n",
        "plt.xlabel(\"\")\n",
        "plt.ylabel(\"\")\n",
        "ax.set_title(\"Average covariate values within each leaf\", fontsize=18, fontweight = \"bold\")\n",
        "(ax.set_xticklabels([\"Leaf1\", \"Leaf2\", \"Leaf3\", \"Leaf4\",\"Leaf5\", \"Leaf6\",\"Leaf7\", \"Leaf8\", \"Leaf9\"], size=15))"
      ]
    },
    {
      "cell_type": "markdown",
      "id": "fb0093ee",
      "metadata": {
        "id": "fb0093ee"
      },
      "source": [
        "<font size=1>\n",
        "Interpret the heatmap above. What describes the subgroups with strongest and weakest estimated treatment effect?\n",
        "</font>"
      ]
    },
    {
      "cell_type": "markdown",
      "id": "c73c2b6e",
      "metadata": {
        "id": "c73c2b6e"
      },
      "source": [
        "## Causal Forest"
      ]
    },
    {
      "cell_type": "markdown",
      "id": "9b149af6",
      "metadata": {
        "id": "9b149af6"
      },
      "source": [
        "The function `causal_forest` from the package `CausalForest` allows us to get estimates of the CATE  (4.1)."
      ]
    },
    {
      "cell_type": "code",
      "execution_count": null,
      "id": "87290606",
      "metadata": {
        "id": "87290606"
      },
      "outputs": [],
      "source": [
        "import econml\n",
        "# Main imports\n",
        "from econml.orf import DMLOrthoForest, DROrthoForest\n",
        "from econml.dml import CausalForestDML\n",
        "from econml.sklearn_extensions.linear_model import WeightedLassoCVWrapper, WeightedLasso, WeightedLassoCV\n",
        "from sklearn.linear_model import MultiTaskLassoCV\n",
        "# Helper imports\n",
        "import numpy as np\n",
        "from itertools import product\n",
        "from sklearn.linear_model import Lasso, LassoCV, LogisticRegression, LogisticRegressionCV\n",
        "import matplotlib.pyplot as plt\n",
        "from sklearn.tree import DecisionTreeRegressor\n",
        "from sklearn.ensemble import RandomForestRegressor\n",
        "from econml.grf import RegressionForest\n",
        "%matplotlib inline\n",
        "import patsy\n",
        "import seaborn as sns"
      ]
    },
    {
      "cell_type": "code",
      "execution_count": null,
      "id": "32c0fbf8",
      "metadata": {
        "id": "32c0fbf8"
      },
      "outputs": [],
      "source": [
        "# Preparing data to fit a causal forest\n",
        "\n",
        "fmla = '0+age+polviews+income+educ+marital+sex'\n",
        "desc = patsy.ModelDesc.from_formula(fmla)\n",
        "desc.describe()\n",
        "matrix = patsy.dmatrix(fmla, data, return_type = \"dataframe\")\n",
        "\n",
        "T = data.loc[ : ,\"w\"]\n",
        "Y = data.loc[ : ,\"y\"]\n",
        "X = matrix\n",
        "\n",
        "# Estimate a causal forest.\n",
        "est1 = CausalForest(n_estimators=2000, min_samples_leaf=5,\n",
        "                       max_depth=50,\n",
        "                       verbose=0, random_state=123)\n",
        "\n",
        "est1.fit(X, T, Y)\n",
        "\n",
        "tau_hat = est1.predict(X).flatten()"
      ]
    },
    {
      "cell_type": "code",
      "execution_count": null,
      "id": "3fd3692f",
      "metadata": {
        "id": "3fd3692f"
      },
      "outputs": [],
      "source": [
        "# Get residuals  and propensity\n",
        "regr = RegressionForest(n_estimators=2000, min_samples_leaf=5,\n",
        "                       max_depth=50,\n",
        "                       verbose=0, random_state=123)\n",
        "\n",
        "e_hat = regr.fit(X, T).predict(X).flatten()"
      ]
    },
    {
      "cell_type": "code",
      "execution_count": null,
      "id": "137440c5",
      "metadata": {
        "id": "137440c5",
        "outputId": "dd602cfa-d438-499d-8310-9e04c48f471c"
      },
      "outputs": [
        {
          "data": {
            "text/plain": [
              "Text(0.5, 0, '')"
            ]
          },
          "execution_count": 85,
          "metadata": {},
          "output_type": "execute_result"
        },
        {
          "data": {
            "image/png": "[encoded data removed]",
            "text/plain": [
              "<Figure size 432x288 with 1 Axes>"
            ]
          },
          "metadata": {
            "filenames": {
              "image/png": "/home/runner/work/mgtecon634_py/mgtecon634_py/_build/jupyter_execute/notebooks/4_heterogeneous_treatment_effect_1_28_1.png"
            },
            "needs_background": "light"
          },
          "output_type": "display_data"
        }
      ],
      "source": [
        "#Propensity score\n",
        "\n",
        "Prop = pd.DataFrame({\"p_score\":e_hat, \"Treatment\":T})\n",
        "\n",
        "sns.histplot(data=Prop, x=\"p_score\", hue=\"Treatment\", bins=40, alpha = 0.4)\n",
        "\n",
        "plt.ylabel('')\n",
        "plt.xlabel('')"
      ]
    },
    {
      "cell_type": "markdown",
      "id": "3d82e761",
      "metadata": {
        "id": "3d82e761"
      },
      "source": [
        "Having fit a non-parametric method such as a causal forest, a researcher may (incorrectly) start by looking at the distribution of its predictions of the treatment effect. One might be tempted to think: \"if the histogram is concentrated at a point, then there is no heterogeneity; if the histogram is spread out, then our estimator has found interesting heterogeneity.\" However, this may be false."
      ]
    },
    {
      "cell_type": "code",
      "execution_count": null,
      "id": "dbb9a8c4",
      "metadata": {
        "id": "dbb9a8c4",
        "outputId": "2edf88f0-3711-497f-9221-cccb7478af9f"
      },
      "outputs": [
        {
          "data": {
            "text/plain": [
              "Text(0.5, 1.0, 'CATE estimates')"
            ]
          },
          "execution_count": 86,
          "metadata": {},
          "output_type": "execute_result"
        },
        {
          "data": {
            "image/png": "[encoded data removed]",
            "text/plain": [
              "<Figure size 432x288 with 1 Axes>"
            ]
          },
          "metadata": {
            "filenames": {
              "image/png": "/home/runner/work/mgtecon634_py/mgtecon634_py/_build/jupyter_execute/notebooks/4_heterogeneous_treatment_effect_1_30_1.png"
            },
            "needs_background": "light"
          },
          "output_type": "display_data"
        }
      ],
      "source": [
        "# Do not use this for assessing heterogeneity. See text above.\n",
        "sns.histplot( tau_hat, stat = \"percent\", bins = 10)\n",
        "plt.title(\"CATE estimates\")\n"
      ]
    },
    {
      "cell_type": "markdown",
      "id": "be871910",
      "metadata": {
        "id": "be871910"
      },
      "source": [
        "If the histogram is concentrated at a point, we may simply be underpowered: our method was not able to detect any heterogeneity, but maybe it would detect it if we had more data. If the histogram is spread out, we may be overfitting: our model is producing very noisy estimates $\\widehat{\\tau}(x)$, but in fact the true  $\\tau(x)$ can be much smoother as a function of $x$.\n",
        "\n",
        "The `CausalForest` package also produces a measure of variable importance that indicates how often a variable was used in a tree split. Again, much like the histogram above, this can be a rough diagnostic, but it should not be interpreted as indicating that, for example, variable with low importance is not related to heterogeneity. The reasoning is the same as the one presented in the causal trees section: if two covariates are highly correlated, the trees might split on one covariate but not the other, even though both (or maybe neither) are relevant in the true data-generating process."
      ]
    },
    {
      "cell_type": "code",
      "execution_count": null,
      "id": "146daceb",
      "metadata": {
        "id": "146daceb"
      },
      "outputs": [],
      "source": [
        "importance = pd.DataFrame({\"covariaties\" : list(X.columns), \"values\" : est1.feature_importances()})"
      ]
    },
    {
      "cell_type": "code",
      "execution_count": null,
      "id": "69fea211",
      "metadata": {
        "id": "69fea211",
        "outputId": "abacb6ce-9de2-4e9a-b7a5-f677814bbb3f"
      },
      "outputs": [
        {
          "data": {
            "text/html": [
              "<div>\n",
              "<style scoped>\n",
              "    .dataframe tbody tr th:only-of-type {\n",
              "        vertical-align: middle;\n",
              "    }\n",
              "\n",
              "    .dataframe tbody tr th {\n",
              "        vertical-align: top;\n",
              "    }\n",
              "\n",
              "    .dataframe thead th {\n",
              "        text-align: right;\n",
              "    }\n",
              "</style>\n",
              "<table border=\"1\" class=\"dataframe\">\n",
              "  <thead>\n",
              "    <tr style=\"text-align: right;\">\n",
              "      <th></th>\n",
              "      <th>covariaties</th>\n",
              "      <th>values</th>\n",
              "    </tr>\n",
              "  </thead>\n",
              "  <tbody>\n",
              "    <tr>\n",
              "      <th>1</th>\n",
              "      <td>polviews</td>\n",
              "      <td>0.676524</td>\n",
              "    </tr>\n",
              "    <tr>\n",
              "      <th>2</th>\n",
              "      <td>income</td>\n",
              "      <td>0.222522</td>\n",
              "    </tr>\n",
              "    <tr>\n",
              "      <th>3</th>\n",
              "      <td>educ</td>\n",
              "      <td>0.053710</td>\n",
              "    </tr>\n",
              "    <tr>\n",
              "      <th>0</th>\n",
              "      <td>age</td>\n",
              "      <td>0.036800</td>\n",
              "    </tr>\n",
              "    <tr>\n",
              "      <th>4</th>\n",
              "      <td>marital</td>\n",
              "      <td>0.007500</td>\n",
              "    </tr>\n",
              "    <tr>\n",
              "      <th>5</th>\n",
              "      <td>sex</td>\n",
              "      <td>0.002944</td>\n",
              "    </tr>\n",
              "  </tbody>\n",
              "</table>\n",
              "</div>"
            ],
            "text/plain": [
              "  covariaties    values\n",
              "1    polviews  0.676524\n",
              "2      income  0.222522\n",
              "3        educ  0.053710\n",
              "0         age  0.036800\n",
              "4     marital  0.007500\n",
              "5         sex  0.002944"
            ]
          },
          "execution_count": 89,
          "metadata": {},
          "output_type": "execute_result"
        }
      ],
      "source": [
        "importance.sort_values('values', ascending = False)"
      ]
    },
    {
      "cell_type": "markdown",
      "id": "e0ea45d1",
      "metadata": {
        "id": "e0ea45d1"
      },
      "source": [
        "#### Data-driven subgroups\n",
        "\n",
        "Just as with causal trees, we can use causal forests to divide our observations into subgroups. In place of leaves, we'll rank observation into (say) quintiles according to their estimated CATE prediction; see, e.g., [Chernozhukov, Demirer, Duflo, Fernández-Val (2020)](https://arxiv.org/abs/1712.04802) for similar ideas.\n",
        "\n",
        "There's a subtle but important point that needs to be addressed here. As we have mentioned before, when predicting the conditional average treatment effect $\\tau(X_i)$ for observation $i$ we should in general avoid using a model that was fitted using observation $i$. This sort of sample splitting (which we called **honesty** above) is one of the required ingredients to get unbiased estimates of the CATE using the methods described here. However, when ranking estimates of two observations $i$ and $j$, we need something a little stronger: we must ensure that the model was not fit using _either_ $i$ _or_ $j$'s data.\n",
        "\n",
        "One way of overcoming this obstacle is simple. First, divide the data into $K$ folds (subsets). Then, cycle through the folds, fitting a CATE model on $K-1$ folds. Next, for each held-out fold, _separately_ rank the unseen observations into $Q$ groups based on their prediction  (i.e., if $Q=5$, then we rank observations by estimated CATE into \"top quintile\", \"second quintile\", and so on). After concatenating the independent rankings together, we can study the differences in observations in each rank-group.\n",
        "\n",
        "[This gist](https://gist.github.com/halflearned/bea4e5137c0c81fd18a75f682da466c8) computes the above for `grf`, and it should not be hard to modify it so as to replace forests by any other non-parametric method. However, for `grf` specifically, there's a small trick that allows us to obtain a valid ranking: we can pass a vector of fold indices to the argument `clusters` and rank observations within each fold. This works because estimates for each fold (\"cluster\")   trees are computed using trees that were not fit using observations from that fold. Here's how to do it.\n"
      ]
    },
    {
      "cell_type": "code",
      "execution_count": null,
      "id": "830d8e5c",
      "metadata": {
        "id": "830d8e5c"
      },
      "outputs": [],
      "source": [
        "fmla = '0+age+polviews+income+educ+marital+sex'\n",
        "desc = patsy.ModelDesc.from_formula(fmla)\n",
        "matrix = patsy.dmatrix(fmla, data, return_type = \"dataframe\")\n",
        "\n",
        "T = data.loc[ : ,\"w\"]\n",
        "Y = data.loc[ : ,\"y\"]\n",
        "X = matrix\n",
        "W = None\n"
      ]
    },
    {
      "cell_type": "code",
      "execution_count": null,
      "id": "fdb4e387",
      "metadata": {
        "id": "fdb4e387"
      },
      "outputs": [],
      "source": [
        "\n",
        "def cluster_causal_forest(X,T,Y, cluster):\n",
        "\n",
        "        base = pd.concat([Y,T], axis = 1)\n",
        "\n",
        "        for i in range(cluster):\n",
        "\n",
        "            index=range(X.shape[0])\n",
        "            a = np.array_split(np.array(index),cluster)[i]  ## split index\n",
        "\n",
        "            Y = base.drop(base.iloc[list(a),:].index).iloc[:,0]\n",
        "            T = base.drop(base.iloc[list(a),:].index).iloc[:,1]\n",
        "            XX = X.drop(X.iloc[list(a),:].index)\n",
        "            causal = CausalForest(n_estimators=2000, min_samples_leaf=5,\n",
        "                       max_depth=50,\n",
        "                       verbose=0, random_state=123)\n",
        "            causal.fit(XX,T,Y)\n",
        "\n",
        "            tau_hat = causal.predict(X=X.iloc[list(a),:]).flatten() # tau(X) estimates using validation data\n",
        "            vector = i*np.ones( len(list(a)) ) + 1\n",
        "            globals()[f'data_{i}'] = pd.DataFrame({\"tau_hat\":tau_hat, \"Cluster\":vector})\n",
        "\n",
        "\n",
        "\n",
        "        tau_predict = data_0.copy()\n",
        "\n",
        "        for k in range(1,cluster):\n",
        "            tau_predict = tau_predict.append(globals()[f'data_{k}'] , ignore_index=True)\n",
        "\n",
        "\n",
        "\n",
        "        return tau_predict"
      ]
    },
    {
      "cell_type": "code",
      "execution_count": null,
      "id": "5f6da6f9",
      "metadata": {
        "id": "5f6da6f9",
        "outputId": "b001073b-94de-4d56-9773-ed841617f236"
      },
      "outputs": [
        {
          "name": "stderr",
          "output_type": "stream",
          "text": [
            "The frame.append method is deprecated and will be removed from pandas in a future version. Use pandas.concat instead.\n"
          ]
        }
      ],
      "source": [
        "# Valid randomized data and observational data with unconfoundedness+overlap.\n",
        "# Note: read the comments below carefully.\n",
        "# In randomized settings, do not estimate forest.e and e.hat; use known assignment probs.\n",
        "\n",
        "#\n",
        "# Prepare dataset\n",
        "fmla = '0+age+polviews+income+educ+marital+sex'\n",
        "desc = patsy.ModelDesc.from_formula(fmla)\n",
        "matrix = patsy.dmatrix(fmla, data, return_type = \"dataframe\")\n",
        "\n",
        "T = data.loc[ : ,\"w\"]\n",
        "Y = data.loc[ : ,\"y\"]\n",
        "X = matrix\n",
        "W = None\n",
        "\n",
        "\n",
        "# Number of rankings that the predictions will be ranking on\n",
        "# (e.g., 2 for above/below median estimated CATE, 5 for estimated CATE quintiles, etc.)\n",
        "num_rankings = 5\n",
        "\n",
        "# Prepare for data.splitting\n",
        "# Assign a fold number to each observation.\n",
        "# The argument 'clusters' in the next step will mimick K-fold cross-fitting.\n",
        "num_folds = 10\n",
        "\n",
        "# Estimate a causal forest.\n",
        "\n",
        "tau_hat_cluster = cluster_causal_forest(X,T,Y,  cluster = num_folds)\n",
        "\n",
        "data['ranking'] = np.nan\n",
        "\n",
        "for i in range(1,num_folds+1):\n",
        "    split = tau_hat_cluster.Cluster == i\n",
        "    index = tau_hat_cluster[split].index\n",
        "    tau_quantile = np.quantile(tau_hat_cluster[split].iloc[:,0], list(np.arange(0,1.1,0.2)))\n",
        "    labels =[i for i in range(1,6)]\n",
        "    data.loc[index , [\"ranking\"]] = pd.cut(tau_hat_cluster[split][\"tau_hat\"],\n",
        "                                               tau_quantile , right=False, labels=labels)"
      ]
    },
    {
      "cell_type": "code",
      "execution_count": null,
      "id": "37b11703",
      "metadata": {
        "id": "37b11703"
      },
      "outputs": [],
      "source": [
        "# Valid only in randomized settings.\n",
        "# Average difference-in-means within each ranking\n",
        "\n",
        "# Formula y ~ 0 + ranking + ranking:w\n",
        "fmla = 'y ~ 0 + C(ranking) + w:C(ranking)'\n",
        "ols = smf.ols(fmla, data=data).fit(cov_type='HC2')\n",
        "\n",
        "# Retrieve the interaction coefficients\n",
        "ols_1 = ols.summary2().tables[1].reset_index()\n",
        "ols_ate = ols_1.loc[ols_1[\"index\"].str.contains(\"w:\")].iloc[:,1:3]\n",
        "ols_ate['method'] = \"ols\"\n",
        "ols_ate['ranking'] = [f'Q{j}' for j in range(1,6)]\n",
        "order = [2,3,0,1] # setting column's order\n",
        "ols_ate = ols_ate[[ols_ate.columns[i] for i in order]]"
      ]
    },
    {
      "cell_type": "code",
      "execution_count": null,
      "id": "09c1ad05",
      "metadata": {
        "id": "09c1ad05",
        "outputId": "8af6cd69-7e96-405d-e651-84a5e0ff6ffd"
      },
      "outputs": [
        {
          "data": {
            "text/html": [
              "<div>\n",
              "<style scoped>\n",
              "    .dataframe tbody tr th:only-of-type {\n",
              "        vertical-align: middle;\n",
              "    }\n",
              "\n",
              "    .dataframe tbody tr th {\n",
              "        vertical-align: top;\n",
              "    }\n",
              "\n",
              "    .dataframe thead th {\n",
              "        text-align: right;\n",
              "    }\n",
              "</style>\n",
              "<table border=\"1\" class=\"dataframe\">\n",
              "  <thead>\n",
              "    <tr style=\"text-align: right;\">\n",
              "      <th></th>\n",
              "      <th>method</th>\n",
              "      <th>ranking</th>\n",
              "      <th>Estimate</th>\n",
              "      <th>se</th>\n",
              "    </tr>\n",
              "  </thead>\n",
              "  <tbody>\n",
              "    <tr>\n",
              "      <th>5</th>\n",
              "      <td>ols</td>\n",
              "      <td>Q1</td>\n",
              "      <td>-0.434987</td>\n",
              "      <td>0.011334</td>\n",
              "    </tr>\n",
              "    <tr>\n",
              "      <th>6</th>\n",
              "      <td>ols</td>\n",
              "      <td>Q2</td>\n",
              "      <td>-0.395820</td>\n",
              "      <td>0.011269</td>\n",
              "    </tr>\n",
              "    <tr>\n",
              "      <th>7</th>\n",
              "      <td>ols</td>\n",
              "      <td>Q3</td>\n",
              "      <td>-0.364954</td>\n",
              "      <td>0.010913</td>\n",
              "    </tr>\n",
              "    <tr>\n",
              "      <th>8</th>\n",
              "      <td>ols</td>\n",
              "      <td>Q4</td>\n",
              "      <td>-0.322345</td>\n",
              "      <td>0.010519</td>\n",
              "    </tr>\n",
              "    <tr>\n",
              "      <th>9</th>\n",
              "      <td>ols</td>\n",
              "      <td>Q5</td>\n",
              "      <td>-0.220181</td>\n",
              "      <td>0.009833</td>\n",
              "    </tr>\n",
              "  </tbody>\n",
              "</table>\n",
              "</div>"
            ],
            "text/plain": [
              "  method ranking  Estimate        se\n",
              "5    ols      Q1 -0.434987  0.011334\n",
              "6    ols      Q2 -0.395820  0.011269\n",
              "7    ols      Q3 -0.364954  0.010913\n",
              "8    ols      Q4 -0.322345  0.010519\n",
              "9    ols      Q5 -0.220181  0.009833"
            ]
          },
          "execution_count": 94,
          "metadata": {},
          "output_type": "execute_result"
        }
      ],
      "source": [
        "ols_ate.rename({'Coef.': 'Estimate', 'Std.Err.': 'se'}, axis=1, inplace = True)\n",
        "ols_ate"
      ]
    },
    {
      "cell_type": "code",
      "execution_count": null,
      "id": "a43b0cc6",
      "metadata": {
        "scrolled": true,
        "id": "a43b0cc6",
        "outputId": "f20245b3-57b9-487b-ef60-4db79306a93a"
      },
      "outputs": [
        {
          "data": {
            "text/html": [
              "<div>\n",
              "<style scoped>\n",
              "    .dataframe tbody tr th:only-of-type {\n",
              "        vertical-align: middle;\n",
              "    }\n",
              "\n",
              "    .dataframe tbody tr th {\n",
              "        vertical-align: top;\n",
              "    }\n",
              "\n",
              "    .dataframe thead th {\n",
              "        text-align: right;\n",
              "    }\n",
              "</style>\n",
              "<table border=\"1\" class=\"dataframe\">\n",
              "  <thead>\n",
              "    <tr style=\"text-align: right;\">\n",
              "      <th></th>\n",
              "      <th>method</th>\n",
              "      <th>ranking</th>\n",
              "      <th>Estimate</th>\n",
              "      <th>se</th>\n",
              "    </tr>\n",
              "  </thead>\n",
              "  <tbody>\n",
              "    <tr>\n",
              "      <th>0</th>\n",
              "      <td>apiw</td>\n",
              "      <td>Q1</td>\n",
              "      <td>-0.434726</td>\n",
              "      <td>0.010768</td>\n",
              "    </tr>\n",
              "    <tr>\n",
              "      <th>1</th>\n",
              "      <td>apiw</td>\n",
              "      <td>Q2</td>\n",
              "      <td>-0.399149</td>\n",
              "      <td>0.010537</td>\n",
              "    </tr>\n",
              "    <tr>\n",
              "      <th>2</th>\n",
              "      <td>apiw</td>\n",
              "      <td>Q3</td>\n",
              "      <td>-0.362827</td>\n",
              "      <td>0.010320</td>\n",
              "    </tr>\n",
              "    <tr>\n",
              "      <th>3</th>\n",
              "      <td>apiw</td>\n",
              "      <td>Q4</td>\n",
              "      <td>-0.321187</td>\n",
              "      <td>0.009990</td>\n",
              "    </tr>\n",
              "    <tr>\n",
              "      <th>4</th>\n",
              "      <td>apiw</td>\n",
              "      <td>Q5</td>\n",
              "      <td>-0.216252</td>\n",
              "      <td>0.009182</td>\n",
              "    </tr>\n",
              "  </tbody>\n",
              "</table>\n",
              "</div>"
            ],
            "text/plain": [
              "  method ranking  Estimate        se\n",
              "0   apiw      Q1 -0.434726  0.010768\n",
              "1   apiw      Q2 -0.399149  0.010537\n",
              "2   apiw      Q3 -0.362827  0.010320\n",
              "3   apiw      Q4 -0.321187  0.009990\n",
              "4   apiw      Q5 -0.216252  0.009182"
            ]
          },
          "execution_count": 95,
          "metadata": {},
          "output_type": "execute_result"
        }
      ],
      "source": [
        "# Computing AIPW scores.\n",
        "\n",
        "regr = RegressionForest(max_depth=50, random_state=123,\n",
        "                        n_estimators=2000)\n",
        "\n",
        "e_hat = regr.fit(X, T).predict(X).flatten() # P[W=1|X]\n",
        "m_hat = regr.fit(X, Y).predict(X).flatten() # E[Y|X]\n",
        "\n",
        "\n",
        "# Estimating mu.hat(X, 1) and mu.hat(X, 0) for obs in held-out sample\n",
        "# Note: to understand this, read equations 6-8 in this vignette:\n",
        "# https://grf-labs.github.io/grf/articles/muhats.html\n",
        "mu_hat0 = m_hat - e_hat * tau_hat        # E[Y|X,W=0] = E[Y|X] - e(X)*tau(X)\n",
        "mu_hat1 = m_hat + (1 - e_hat) * tau_hat  # E[Y|X,W=1] = E[Y|X] + (1 - e(X))*tau(X)\n",
        "\n",
        "# AIPW scores\n",
        "data['aipw_scores'] = tau_hat + T / e_hat * (Y -  mu_hat1) - (1 - T) / (1 - e_hat) * (Y -  mu_hat0)\n",
        "\n",
        "fmla = 'aipw_scores ~ 0 + C(ranking)'\n",
        "ols = smf.ols(fmla,data).fit(cov_type='HC2')\n",
        "\n",
        "# Retrieve the interaction coefficients\n",
        "ols = ols.summary2().tables[1].reset_index()\n",
        "forest_ate = ols.loc[ols[\"index\"].str.contains(\"ranking\")].iloc[:,1:3]\n",
        "forest_ate['method'] = \"apiw\"\n",
        "forest_ate['ranking'] = [f'Q{j}' for j in range(1,6)]\n",
        "order = [2,3,0,1] # setting column's order\n",
        "forest_ate = forest_ate[[forest_ate.columns[i] for i in order]]\n",
        "forest_ate.rename({'Coef.': 'Estimate', 'Std.Err.': 'se'}, axis=1, inplace = True)\n",
        "forest_ate"
      ]
    },
    {
      "cell_type": "code",
      "execution_count": null,
      "id": "33fad1ee",
      "metadata": {
        "id": "33fad1ee",
        "outputId": "f54de99d-d8e2-48c6-f935-3cb06f875ebe"
      },
      "outputs": [
        {
          "data": {
            "image/png": "[encoded data removed]",
            "text/plain": [
              "<Figure size 720x432 with 1 Axes>"
            ]
          },
          "metadata": {
            "filenames": {
              "image/png": "/home/runner/work/mgtecon634_py/mgtecon634_py/_build/jupyter_execute/notebooks/4_heterogeneous_treatment_effect_1_41_0.png"
            },
            "needs_background": "light"
          },
          "output_type": "display_data"
        }
      ],
      "source": [
        "# Concatenate the two results.\n",
        "res = pd.concat([forest_ate, ols_ate])\n",
        "\n",
        "# Plotting the point estimate of average treatment effect\n",
        "# and 95% confidence intervals around it.\n",
        "# Define figure, axes, and plot\n",
        "fig, ax = plt.subplots(figsize=(10, 6))\n",
        "\n",
        "\n",
        "ax.scatter(x=res['ranking'].unique(),\n",
        "         marker='o', s=40,\n",
        "         y=res[res.method == \"ols\"]['Estimate'], color = \"blue\")\n",
        "\n",
        "ax.scatter(x=np.arange(0.1,5,1),\n",
        "         marker='o', s=40,\n",
        "         y=res[res.method == \"apiw\"]['Estimate'], color = \"red\")\n",
        "\n",
        "eb1 = plt.errorbar(x=res['ranking'].unique(), y=res[res.method == \"ols\"]['Estimate'],\n",
        "            yerr= 2*res[res.method == \"ols\"]['se'],\n",
        "            color = 'darkblue', ls='', capsize = 4)\n",
        "eb1[-1][0].set_linestyle('--')\n",
        "\n",
        "eb2 = plt.errorbar(x=np.arange(0.1,5,1), y=res[res.method == \"apiw\"]['Estimate'],\n",
        "            yerr= 2*res[res.method == \"apiw\"]['se'],\n",
        "            color = 'darkred', ls='', capsize = 4)\n",
        "eb2[-1][0].set_linestyle('--')\n",
        "\n",
        "# Set title & labels\n",
        "plt.title('Average CATE within each ranking (as defined by predicted CATE)',fontsize=15)\n",
        "\n",
        "# add legend\n",
        "\n",
        "red_patch = mpatches.Patch(color='red', label='apiw')\n",
        "blue_patch = mpatches.Patch(color='blue', label='ols')\n",
        "\n",
        "plt.legend(title = \"Method\", handles=[blue_patch,red_patch],  bbox_to_anchor=(1.15, 0.7))\n",
        "\n",
        "plt.show()\n"
      ]
    },
    {
      "cell_type": "markdown",
      "id": "8504d923",
      "metadata": {
        "id": "8504d923"
      },
      "source": [
        "When there isn't much detectable heterogeneity, the plot above can end up being non-monotonic. This can mean that the number of observations is too small for us to be able to detect subgroups with relevant differences in treatment effect.\n",
        "\n",
        "<font size=1>\n",
        "As an exercise, try running the previous two snippets on few data points (e.g., the first thousand observations only). You will likely see the \"non-monotonicity\" phenomenon just described.\n",
        "</font>\n",
        "\n",
        "Next, as we did for leaves in a causal tree, we can test e.g., if the prediction for groups 2, 3, etc. are larger than the one in the first group. Here's how to do it based on a difference-in-means estimator. Note the Romano-Wolf multiple-hypothesis testing correction."
      ]
    },
    {
      "cell_type": "code",
      "execution_count": null,
      "id": "45cb6d8e",
      "metadata": {
        "id": "45cb6d8e",
        "outputId": "48a509c5-2e9a-4c09-9026-80c4004a608d"
      },
      "outputs": [
        {
          "name": "stderr",
          "output_type": "stream",
          "text": [
            "\n",
            "A value is trying to be set on a copy of a slice from a DataFrame\n",
            "\n",
            "See the caveats in the documentation: https://pandas.pydata.org/pandas-docs/stable/user_guide/indexing.html#returning-a-view-versus-a-copy\n",
            "\n",
            "A value is trying to be set on a copy of a slice from a DataFrame.\n",
            "Try using .loc[row_indexer,col_indexer] = value instead\n",
            "\n",
            "See the caveats in the documentation: https://pandas.pydata.org/pandas-docs/stable/user_guide/indexing.html#returning-a-view-versus-a-copy\n",
            "\n",
            "A value is trying to be set on a copy of a slice from a DataFrame.\n",
            "Try using .loc[row_indexer,col_indexer] = value instead\n",
            "\n",
            "See the caveats in the documentation: https://pandas.pydata.org/pandas-docs/stable/user_guide/indexing.html#returning-a-view-versus-a-copy\n",
            "\n",
            "A value is trying to be set on a copy of a slice from a DataFrame\n",
            "\n",
            "See the caveats in the documentation: https://pandas.pydata.org/pandas-docs/stable/user_guide/indexing.html#returning-a-view-versus-a-copy\n"
          ]
        },
        {
          "data": {
            "text/html": [
              "<div>\n",
              "<style scoped>\n",
              "    .dataframe tbody tr th:only-of-type {\n",
              "        vertical-align: middle;\n",
              "    }\n",
              "\n",
              "    .dataframe tbody tr th {\n",
              "        vertical-align: top;\n",
              "    }\n",
              "\n",
              "    .dataframe thead th {\n",
              "        text-align: right;\n",
              "    }\n",
              "</style>\n",
              "<table border=\"1\" class=\"dataframe\">\n",
              "  <thead>\n",
              "    <tr style=\"text-align: right;\">\n",
              "      <th></th>\n",
              "      <th>Comparative</th>\n",
              "      <th>Estimate</th>\n",
              "      <th>se</th>\n",
              "      <th>Orig.p-value</th>\n",
              "      <th>Adj. p-value</th>\n",
              "    </tr>\n",
              "  </thead>\n",
              "  <tbody>\n",
              "    <tr>\n",
              "      <th>6</th>\n",
              "      <td>Rank 2 - Rank 1</td>\n",
              "      <td>0.039167</td>\n",
              "      <td>0.014772</td>\n",
              "      <td>8.021603e-03</td>\n",
              "      <td>0.0084</td>\n",
              "    </tr>\n",
              "    <tr>\n",
              "      <th>7</th>\n",
              "      <td>Rank 3 - Rank 1</td>\n",
              "      <td>0.070032</td>\n",
              "      <td>0.014765</td>\n",
              "      <td>2.114420e-06</td>\n",
              "      <td>0.0000</td>\n",
              "    </tr>\n",
              "    <tr>\n",
              "      <th>8</th>\n",
              "      <td>Rank 4 - Rank 1</td>\n",
              "      <td>0.112642</td>\n",
              "      <td>0.014758</td>\n",
              "      <td>2.368220e-14</td>\n",
              "      <td>0.0000</td>\n",
              "    </tr>\n",
              "    <tr>\n",
              "      <th>9</th>\n",
              "      <td>Rank 5 - Rank 1</td>\n",
              "      <td>0.214805</td>\n",
              "      <td>0.014772</td>\n",
              "      <td>9.849671e-48</td>\n",
              "      <td>0.0000</td>\n",
              "    </tr>\n",
              "  </tbody>\n",
              "</table>\n",
              "</div>"
            ],
            "text/plain": [
              "       Comparative  Estimate        se  Orig.p-value  Adj. p-value\n",
              "6  Rank 2 - Rank 1  0.039167  0.014772  8.021603e-03        0.0084\n",
              "7  Rank 3 - Rank 1  0.070032  0.014765  2.114420e-06        0.0000\n",
              "8  Rank 4 - Rank 1  0.112642  0.014758  2.368220e-14        0.0000\n",
              "9  Rank 5 - Rank 1  0.214805  0.014772  9.849671e-48        0.0000"
            ]
          },
          "execution_count": 97,
          "metadata": {},
          "output_type": "execute_result"
        }
      ],
      "source": [
        "# Valid in randomized settings only.\n",
        "\n",
        "# y ~ ranking + w + ranking:w\n",
        "\n",
        "fmla = 'y ~  C(ranking) + w + w:C(ranking)'\n",
        "ols = smf.ols(fmla, data=data).fit()\n",
        "\n",
        "# Retrieve the interaction coefficients\n",
        "ols_1 = ols.summary2().tables[1].reset_index()\n",
        "interact = ols_1.loc[ols_1[\"index\"].str.contains(\"w:\")]\n",
        "ols_ate = summary_rw_lm(ols, indices=interact)\n",
        "ols_ate['ranking'] = [f'Rank {j} - Rank 1' for j in range(2,6)]\n",
        "order = [5,1,2,3,4] # setting column's order\n",
        "ols_ate = ols_ate[[ols_ate.columns[i] for i in order]]\n",
        "ols_ate.rename({'Coef.': 'Estimate', 'Std.Err.': 'se', 'ranking': 'Comparative'}, axis=1, inplace = True)\n",
        "ols_ate"
      ]
    },
    {
      "cell_type": "markdown",
      "id": "54a16864",
      "metadata": {
        "id": "54a16864"
      },
      "source": [
        "Here's how to do it for AIPW-based estimates, again with Romano-Wolf correction for multiple hypothesis testing."
      ]
    },
    {
      "cell_type": "code",
      "execution_count": null,
      "id": "e84ba79c",
      "metadata": {
        "id": "e84ba79c",
        "outputId": "e33cdc8c-3afa-46cb-d557-56c28338a4a1"
      },
      "outputs": [
        {
          "name": "stderr",
          "output_type": "stream",
          "text": [
            "\n",
            "A value is trying to be set on a copy of a slice from a DataFrame\n",
            "\n",
            "See the caveats in the documentation: https://pandas.pydata.org/pandas-docs/stable/user_guide/indexing.html#returning-a-view-versus-a-copy\n",
            "\n",
            "A value is trying to be set on a copy of a slice from a DataFrame.\n",
            "Try using .loc[row_indexer,col_indexer] = value instead\n",
            "\n",
            "See the caveats in the documentation: https://pandas.pydata.org/pandas-docs/stable/user_guide/indexing.html#returning-a-view-versus-a-copy\n",
            "\n",
            "A value is trying to be set on a copy of a slice from a DataFrame.\n",
            "Try using .loc[row_indexer,col_indexer] = value instead\n",
            "\n",
            "See the caveats in the documentation: https://pandas.pydata.org/pandas-docs/stable/user_guide/indexing.html#returning-a-view-versus-a-copy\n",
            "\n",
            "A value is trying to be set on a copy of a slice from a DataFrame\n",
            "\n",
            "See the caveats in the documentation: https://pandas.pydata.org/pandas-docs/stable/user_guide/indexing.html#returning-a-view-versus-a-copy\n"
          ]
        },
        {
          "data": {
            "text/html": [
              "<div>\n",
              "<style scoped>\n",
              "    .dataframe tbody tr th:only-of-type {\n",
              "        vertical-align: middle;\n",
              "    }\n",
              "\n",
              "    .dataframe tbody tr th {\n",
              "        vertical-align: top;\n",
              "    }\n",
              "\n",
              "    .dataframe thead th {\n",
              "        text-align: right;\n",
              "    }\n",
              "</style>\n",
              "<table border=\"1\" class=\"dataframe\">\n",
              "  <thead>\n",
              "    <tr style=\"text-align: right;\">\n",
              "      <th></th>\n",
              "      <th>Comparative</th>\n",
              "      <th>Estimate</th>\n",
              "      <th>se</th>\n",
              "      <th>Orig.p-value</th>\n",
              "      <th>Adj. p-value</th>\n",
              "    </tr>\n",
              "  </thead>\n",
              "  <tbody>\n",
              "    <tr>\n",
              "      <th>1</th>\n",
              "      <td>Rank 2 - Rank 1</td>\n",
              "      <td>0.035577</td>\n",
              "      <td>0.014387</td>\n",
              "      <td>1.341193e-02</td>\n",
              "      <td>0.0142</td>\n",
              "    </tr>\n",
              "    <tr>\n",
              "      <th>2</th>\n",
              "      <td>Rank 3 - Rank 1</td>\n",
              "      <td>0.071899</td>\n",
              "      <td>0.014391</td>\n",
              "      <td>5.884874e-07</td>\n",
              "      <td>0.0000</td>\n",
              "    </tr>\n",
              "    <tr>\n",
              "      <th>3</th>\n",
              "      <td>Rank 4 - Rank 1</td>\n",
              "      <td>0.113539</td>\n",
              "      <td>0.014392</td>\n",
              "      <td>3.157459e-15</td>\n",
              "      <td>0.0000</td>\n",
              "    </tr>\n",
              "    <tr>\n",
              "      <th>4</th>\n",
              "      <td>Rank 5 - Rank 1</td>\n",
              "      <td>0.218474</td>\n",
              "      <td>0.014396</td>\n",
              "      <td>8.118727e-52</td>\n",
              "      <td>0.0000</td>\n",
              "    </tr>\n",
              "  </tbody>\n",
              "</table>\n",
              "</div>"
            ],
            "text/plain": [
              "       Comparative  Estimate        se  Orig.p-value  Adj. p-value\n",
              "1  Rank 2 - Rank 1  0.035577  0.014387  1.341193e-02        0.0142\n",
              "2  Rank 3 - Rank 1  0.071899  0.014391  5.884874e-07        0.0000\n",
              "3  Rank 4 - Rank 1  0.113539  0.014392  3.157459e-15        0.0000\n",
              "4  Rank 5 - Rank 1  0.218474  0.014396  8.118727e-52        0.0000"
            ]
          },
          "execution_count": 98,
          "metadata": {},
          "output_type": "execute_result"
        }
      ],
      "source": [
        "# Valid in randomized and observational settings with unconfoundedness+overlap.\n",
        "\n",
        "# Using AIPW scores computed above\n",
        "\n",
        "fmla = 'aipw_scores ~  1 + C(ranking)'\n",
        "ols = smf.ols(fmla, data=data).fit()\n",
        "\n",
        "# Retrieve the interaction coefficients\n",
        "ols_1 = ols.summary2().tables[1].reset_index()\n",
        "interact = ols_1.loc[1:num_rankings +1 ,:]\n",
        "forest_ate = summary_rw_lm(ols, indices=interact)\n",
        "forest_ate['ranking'] = [f'Rank {j} - Rank 1' for j in range(2,6)]\n",
        "order = [5,1,2,3,4] # setting column's order\n",
        "forest_ate = forest_ate[[forest_ate.columns[i] for i in order]]\n",
        "forest_ate.rename({'Coef.': 'Estimate', 'Std.Err.': 'se', 'ranking': 'Comparative'}, axis=1, inplace = True)\n",
        "forest_ate\n",
        "\n"
      ]
    },
    {
      "cell_type": "code",
      "execution_count": null,
      "id": "f5afdc50",
      "metadata": {
        "id": "f5afdc50",
        "outputId": "adee1187-753a-42b5-9bfe-6691e0635e3a"
      },
      "outputs": [
        {
          "name": "stderr",
          "output_type": "stream",
          "text": [
            "The frame.append method is deprecated and will be removed from pandas in a future version. Use pandas.concat instead.\n",
            "The frame.append method is deprecated and will be removed from pandas in a future version. Use pandas.concat instead.\n",
            "The frame.append method is deprecated and will be removed from pandas in a future version. Use pandas.concat instead.\n",
            "The frame.append method is deprecated and will be removed from pandas in a future version. Use pandas.concat instead.\n",
            "The frame.append method is deprecated and will be removed from pandas in a future version. Use pandas.concat instead.\n",
            "The frame.append method is deprecated and will be removed from pandas in a future version. Use pandas.concat instead.\n"
          ]
        },
        {
          "data": {
            "text/plain": [
              "[Text(0.5, 0, 'Q1'),\n",
              " Text(1.5, 0, 'Q2'),\n",
              " Text(2.5, 0, 'Q3'),\n",
              " Text(3.5, 0, 'Q4'),\n",
              " Text(4.5, 0, 'Q5')]"
            ]
          },
          "execution_count": 99,
          "metadata": {},
          "output_type": "execute_result"
        },
        {
          "data": {
            "image/png": "[encoded data removed]",
            "text/plain": [
              "<Figure size 720x720 with 2 Axes>"
            ]
          },
          "metadata": {
            "filenames": {
              "image/png": "/home/runner/work/mgtecon634_py/mgtecon634_py/_build/jupyter_execute/notebooks/4_heterogeneous_treatment_effect_1_46_2.png"
            },
            "needs_background": "light"
          },
          "output_type": "display_data"
        }
      ],
      "source": [
        "df = pd.DataFrame()\n",
        "\n",
        "for var_name in covariates:\n",
        "    form2 = var_name + \" ~ \" + \"0\" + \"+\" + \"C(ranking)\"\n",
        "    ols = smf.ols(formula=form2, data=data).fit(cov_type = 'HC2').summary2().tables[1].iloc[:, 0:2]\n",
        "\n",
        "\n",
        "    # Retrieve results\n",
        "    toget_index = ols[\"Coef.\"]\n",
        "    index = toget_index.index\n",
        "    cova1 = pd.Series(np.repeat(var_name,num_rankings), index = index, name = \"covariate\")\n",
        "    avg = pd.Series(ols[\"Coef.\"], name=\"avg\")\n",
        "    stderr = pd.Series(ols[\"Std.Err.\"], name = \"stderr\")\n",
        "    ranking = pd.Series(np.arange(1,num_rankings+1), index = index, name = \"ranking\")\n",
        "    scaling = pd.Series(norm.cdf((avg - np.mean(avg))/np.std(avg)), index = index, name = \"scaling\")\n",
        "    data2 = pd.DataFrame(data=X, columns= covariates)\n",
        "    variation1= np.std(avg) / np.std(data2[var_name])\n",
        "    variation = pd.Series(np.repeat(variation1, num_rankings), index = index, name = \"variation\")\n",
        "    labels = pd.Series(round(avg,2).astype('str') + \"\\n\" + \"(\" + round(stderr, 2).astype('str') + \")\", index = index, name = \"labels\")\n",
        "\n",
        "    # Tally up results\n",
        "    df1 = pd.DataFrame(data = [cova1, avg, stderr, ranking, scaling, variation, labels]).T\n",
        "    df = df.append(df1)\n",
        "\n",
        "# a small optional trick to ensure heatmap will be in decreasing order of 'variation'\n",
        "df = df.sort_values(by = [\"variation\", \"covariate\"], ascending = False)\n",
        "\n",
        "df = df.iloc[0:(8*num_rankings), :]\n",
        "df1 = df.pivot(index = \"covariate\", columns = \"ranking\", values = [\"scaling\"]).astype(float)\n",
        "labels =  df.pivot(index = \"covariate\", columns = \"ranking\", values = [\"labels\"]).to_numpy()\n",
        "\n",
        "# plot heatmap\n",
        "ax = plt.subplots(figsize=(10, 10))\n",
        "ax = sns.heatmap(df1,\n",
        "                 annot=labels,\n",
        "                 annot_kws={\"size\": 12, 'color':\"k\"},\n",
        "                 fmt = '',\n",
        "                 cmap = \"YlGn\",\n",
        "                 linewidths=0,\n",
        "                 xticklabels = ranking)\n",
        "plt.tick_params( axis='y', labelsize=15, length=0, labelrotation=0)\n",
        "plt.tick_params( axis='x', labelsize=15, length=0, labelrotation=0)\n",
        "plt.xlabel(\"CATE estimate ranking\", fontsize= 10)\n",
        "plt.ylabel(\"\")\n",
        "ax.set_title(\"Average covariate values within group (based on CATE estimate ranking)\", fontsize=18, fontweight = \"bold\")\n",
        "(ax.set_xticklabels([\"Q1\", \"Q2\", \"Q3\", \"Q4\",\"Q5\"], size=15))"
      ]
    },
    {
      "cell_type": "markdown",
      "id": "77420ae6",
      "metadata": {
        "id": "77420ae6"
      },
      "source": [
        "#### Best linear projection\n",
        "\n",
        "This function provides a doubly robust fit to the linear model $\\widehat{\\tau}(X_i) = \\beta_0 + A_i'\\beta_1$, where $A_i$ can be a subset of the covariate columns. The coefficients in this regression are suggestive of general trends, but they should not be interpret as partial effects -- that would only be true if the true model were really linear in covariates, and that's an assumption we shouldn't be willing to make in general"
      ]
    },
    {
      "cell_type": "code",
      "execution_count": null,
      "id": "ea011753",
      "metadata": {
        "id": "ea011753",
        "outputId": "d25ad824-5065-4e37-f2ad-f5a70ad49174"
      },
      "outputs": [
        {
          "data": {
            "text/html": [
              "<div>\n",
              "<style scoped>\n",
              "    .dataframe tbody tr th:only-of-type {\n",
              "        vertical-align: middle;\n",
              "    }\n",
              "\n",
              "    .dataframe tbody tr th {\n",
              "        vertical-align: top;\n",
              "    }\n",
              "\n",
              "    .dataframe thead th {\n",
              "        text-align: right;\n",
              "    }\n",
              "</style>\n",
              "<table border=\"1\" class=\"dataframe\">\n",
              "  <thead>\n",
              "    <tr style=\"text-align: right;\">\n",
              "      <th></th>\n",
              "      <th>Coef.</th>\n",
              "      <th>Std.Err.</th>\n",
              "      <th>z</th>\n",
              "      <th>P&gt;|z|</th>\n",
              "      <th>[0.025</th>\n",
              "      <th>0.975]</th>\n",
              "    </tr>\n",
              "  </thead>\n",
              "  <tbody>\n",
              "    <tr>\n",
              "      <th>Intercept</th>\n",
              "      <td>-0.194487</td>\n",
              "      <td>0.004157</td>\n",
              "      <td>-46.784878</td>\n",
              "      <td>0.000000e+00</td>\n",
              "      <td>-0.202635</td>\n",
              "      <td>-0.186340</td>\n",
              "    </tr>\n",
              "    <tr>\n",
              "      <th>age</th>\n",
              "      <td>0.001362</td>\n",
              "      <td>0.000031</td>\n",
              "      <td>43.386983</td>\n",
              "      <td>0.000000e+00</td>\n",
              "      <td>0.001300</td>\n",
              "      <td>0.001423</td>\n",
              "    </tr>\n",
              "    <tr>\n",
              "      <th>polviews</th>\n",
              "      <td>-0.033850</td>\n",
              "      <td>0.000367</td>\n",
              "      <td>-92.257380</td>\n",
              "      <td>0.000000e+00</td>\n",
              "      <td>-0.034569</td>\n",
              "      <td>-0.033131</td>\n",
              "    </tr>\n",
              "    <tr>\n",
              "      <th>income</th>\n",
              "      <td>-0.019321</td>\n",
              "      <td>0.000205</td>\n",
              "      <td>-94.304034</td>\n",
              "      <td>0.000000e+00</td>\n",
              "      <td>-0.019723</td>\n",
              "      <td>-0.018920</td>\n",
              "    </tr>\n",
              "    <tr>\n",
              "      <th>educ</th>\n",
              "      <td>0.008714</td>\n",
              "      <td>0.000193</td>\n",
              "      <td>45.253903</td>\n",
              "      <td>0.000000e+00</td>\n",
              "      <td>0.008336</td>\n",
              "      <td>0.009091</td>\n",
              "    </tr>\n",
              "    <tr>\n",
              "      <th>marital</th>\n",
              "      <td>0.008870</td>\n",
              "      <td>0.000317</td>\n",
              "      <td>27.986121</td>\n",
              "      <td>2.397396e-172</td>\n",
              "      <td>0.008249</td>\n",
              "      <td>0.009491</td>\n",
              "    </tr>\n",
              "    <tr>\n",
              "      <th>sex</th>\n",
              "      <td>-0.004628</td>\n",
              "      <td>0.000981</td>\n",
              "      <td>-4.720433</td>\n",
              "      <td>2.353431e-06</td>\n",
              "      <td>-0.006550</td>\n",
              "      <td>-0.002707</td>\n",
              "    </tr>\n",
              "  </tbody>\n",
              "</table>\n",
              "</div>"
            ],
            "text/plain": [
              "              Coef.  Std.Err.          z          P>|z|    [0.025    0.975]\n",
              "Intercept -0.194487  0.004157 -46.784878   0.000000e+00 -0.202635 -0.186340\n",
              "age        0.001362  0.000031  43.386983   0.000000e+00  0.001300  0.001423\n",
              "polviews  -0.033850  0.000367 -92.257380   0.000000e+00 -0.034569 -0.033131\n",
              "income    -0.019321  0.000205 -94.304034   0.000000e+00 -0.019723 -0.018920\n",
              "educ       0.008714  0.000193  45.253903   0.000000e+00  0.008336  0.009091\n",
              "marital    0.008870  0.000317  27.986121  2.397396e-172  0.008249  0.009491\n",
              "sex       -0.004628  0.000981  -4.720433   2.353431e-06 -0.006550 -0.002707"
            ]
          },
          "execution_count": 101,
          "metadata": {},
          "output_type": "execute_result"
        }
      ],
      "source": [
        "# dataset for best linear proyection\n",
        "X['tau_hat'] = tau_hat\n",
        "\n",
        "smf.ols('tau_hat ~ age+polviews+income+educ+marital+sex',d).fit(cov_type = 'HC3').summary2().tables[1]"
      ]
    },
    {
      "cell_type": "markdown",
      "id": "094e89bd",
      "metadata": {
        "id": "094e89bd"
      },
      "source": [
        "#### Partial dependence\n",
        "\n",
        "It may also be interesting to examine how our CATE estimates behave when we change a single covariate, while keeping all the other covariates at a some fixed value. In the plot below we evaluate a variable of interest across quantiles, while keeping all other covariates at their median.\n",
        "\n",
        "It is important to recognize that by keeping some variables at their median we may be evaluating the CATE at $x$ values in regions where there are few or no data points. Also, it may be the case that varying some particular variable while keeping others fixed may just not be very interesting.\n",
        "\n",
        "In what follows we'll again use `causal_forest` predictions, along with their variance estimates (set `estimate.variances=TRUE` when predicting to we get estimates of the asymptotic variance of the prediction for each point). Since `grf` predictions are asymptotically normal, we can construct 95\\% confidence intervals in the usual manner (i.e., $\\hat{\\tau}(x) \\pm 1.96\\sqrt{\\widehat{\\text{Var}}(\\hat{\\tau}(x))}$)."
      ]
    },
    {
      "cell_type": "code",
      "execution_count": null,
      "id": "15049118",
      "metadata": {
        "id": "15049118"
      },
      "outputs": [],
      "source": [
        "selected_covariate = \"polviews\"\n",
        "other_covariates = [\"age\", \"income\", \"educ\", \"marital\", \"sex\"]\n",
        "\n",
        "# Fitting a forest\n",
        "# (commented for convenience; no need re-fit if already fitted above)\n",
        "fmla = '0+age+polviews+income+educ+marital+sex'\n",
        "\n",
        "\n",
        "grid_size = 7\n",
        "\n",
        "\n",
        "covariate_grid  = np.array_split(data[selected_covariate].sort_values().unique(),grid_size)\n",
        "\n",
        "# Take median of other covariates\n",
        "\n",
        "median = data[other_covariates].median(axis = 0).to_numpy().reshape(1,5)\n",
        "\n",
        "# duplicates rows\n",
        "\n",
        "data_grid = pd.concat([pd.DataFrame(median, columns = other_covariates)]*grid_size)\n",
        "data_grid[selected_covariate ] = [i[0] for i in covariate_grid]\n",
        "\n",
        "# Expand the data\n",
        "X_grid = patsy.dmatrix(fmla, data_grid, return_type = \"dataframe\")\n",
        "\n",
        "tau_hat = est1.predict(X=X_grid).flatten()\n",
        "tau_hat_ci = est1.predict_interval(X=X_grid)\n",
        "tau_hat_se  = ((tau_hat_ci[1]-tau_hat_ci[0])/2).flatten()"
      ]
    },
    {
      "cell_type": "code",
      "execution_count": null,
      "id": "d3cbab6f",
      "metadata": {
        "id": "d3cbab6f",
        "outputId": "c134fd89-1e67-49bb-d651-648c6ead6d21"
      },
      "outputs": [
        {
          "name": "stderr",
          "output_type": "stream",
          "text": [
            "FixedFormatter should only be used together with FixedLocator\n"
          ]
        },
        {
          "data": {
            "text/plain": [
              "[Text(0.0, 0, '0'),\n",
              " Text(1.0, 0, '1'),\n",
              " Text(2.0, 0, '2'),\n",
              " Text(3.0, 0, '3'),\n",
              " Text(4.0, 0, '4'),\n",
              " Text(5.0, 0, '5'),\n",
              " Text(6.0, 0, '6'),\n",
              " Text(7.0, 0, '7'),\n",
              " Text(8.0, 0, '')]"
            ]
          },
          "execution_count": 103,
          "metadata": {},
          "output_type": "execute_result"
        },
        {
          "data": {
            "image/png": "[encoded data removed]",
            "text/plain": [
              "<Figure size 720x432 with 1 Axes>"
            ]
          },
          "metadata": {
            "filenames": {
              "image/png": "/home/runner/work/mgtecon634_py/mgtecon634_py/_build/jupyter_execute/notebooks/4_heterogeneous_treatment_effect_1_51_2.png"
            },
            "needs_background": "light"
          },
          "output_type": "display_data"
        }
      ],
      "source": [
        "selected_covariate = \"polviews\"\n",
        "other_covariates = [\"age\", \"income\", \"educ\", \"marital\", \"sex\"]\n",
        "\n",
        "# Fitting a forest\n",
        "# (commented for convenience; no need re-fit if already fitted above)\n",
        "fmla = '0+age+polviews+income+educ+marital+sex'\n",
        "\n",
        "\n",
        "grid_size = 7\n",
        "\n",
        "\n",
        "covariate_grid  = np.array_split(data[selected_covariate].sort_values().unique(),grid_size)\n",
        "\n",
        "# Take median of other covariates\n",
        "\n",
        "median = data[other_covariates].median(axis = 0).to_numpy().reshape(1,5)\n",
        "\n",
        "# duplicates rows\n",
        "\n",
        "data_grid = pd.concat([pd.DataFrame(median, columns = other_covariates)]*grid_size)\n",
        "data_grid[selected_covariate ] = [i[0] for i in covariate_grid]\n",
        "\n",
        "# Expand the data\n",
        "X_grid = patsy.dmatrix(fmla, data_grid, return_type = \"dataframe\")\n",
        "\n",
        "tau_hat = est1.predict(X=X_grid).flatten()\n",
        "tau_hat_ci = est1.predict_interval(X=X_grid)\n",
        "tau_hat_se  = ((tau_hat_ci[1]-tau_hat_ci[0])/2).flatten()\n",
        "\n",
        "1# Plot predictions for each group and 95% confidence intervals around them.\n",
        "fig, ax = plt.subplots(figsize=(10, 6))\n",
        "\n",
        "\n",
        "ax.scatter(x=data_grid[selected_covariate],\n",
        "         marker='o', s=40,\n",
        "         y=tau_hat, color = \"blue\")\n",
        "\n",
        "ax.plot(data_grid[selected_covariate], tau_hat, color = \"blue\")\n",
        "\n",
        "eb1 = plt.errorbar(x=data_grid[selected_covariate], y=tau_hat,\n",
        "            yerr= tau_hat_se,\n",
        "            color = 'darkblue', ls='', capsize = 4)\n",
        "eb1[-1][0].set_linestyle('--')\n",
        "\n",
        "plt.ylim(-0.6, 0.1)\n",
        "plt.axhline(y=0, color = 'black').set_linestyle('--')\n",
        "ax.set_title(f\"Predicted treatment effect varying {selected_covariate} (other variables fixed at median)\",\n",
        "             fontsize=11, fontweight = \"bold\")\n",
        "(ax.set_xticklabels(range(0,8), size=10))"
      ]
    },
    {
      "cell_type": "code",
      "execution_count": null,
      "id": "405934fc",
      "metadata": {
        "id": "405934fc"
      },
      "outputs": [],
      "source": [
        "selected_covariates = ['polviews','age' ]\n",
        "other_covariates = [\"income\", \"educ\", \"marital\", \"sex\"]\n",
        "# Compute a grid of values appropriate for the selected covariate\n",
        "# See other options for constructing grids in the snippet above.\n",
        "\n",
        "x1_grid_size = 7\n",
        "x2_grid_size = 5\n",
        "x1_grid = np.array_split(data[selected_covariate].sort_values().unique(),grid_size)\n",
        "x2_grid = np.quantile(data[selected_covariates[1]], list(np.arange(0,1.01,1/4)))\n",
        "\n",
        "# Take median of other covariates\n",
        "\n",
        "median = data[other_covariates].median(axis = 0).to_numpy().reshape(1,4)\n",
        "\n",
        "# duplicates rows\n",
        "\n",
        "data_grid = pd.concat([pd.DataFrame(median, columns = other_covariates)]*(x1_grid_size))\n",
        "data_grid[selected_covariates[0]] =  [i[0] for i in covariate_grid]\n",
        "data_grid = pd.concat([data_grid]*(x2_grid_size))\n",
        "data_grid[selected_covariates[1]] =  list(pd.Series(x2_grid).repeat(7))\n",
        "\n",
        "# Expand the data\n",
        "X_grid = patsy.dmatrix(fmla, data_grid, return_type = \"dataframe\")\n",
        "\n",
        "tau_hat = est1.predict(X=X_grid).flatten()\n",
        "tau_hat_ci = est1.predict_interval(X=X_grid)\n",
        "tau_hat_se  = ((tau_hat_ci[1]-tau_hat_ci[0])/2).flatten()\n",
        "\n",
        "df = X_grid\n",
        "df['tau_hat'] = tau_hat\n",
        "df['tau_hat_se'] = tau_hat_se"
      ]
    },
    {
      "cell_type": "code",
      "execution_count": null,
      "id": "ccde1d10",
      "metadata": {
        "id": "ccde1d10",
        "outputId": "7ee95571-86e9-46ff-a195-c82bf51098d1"
      },
      "outputs": [
        {
          "data": {
            "text/plain": [
              "Text(0.5, 1.0, 'Predicted treatment effect varying polviews andage (other variables fixed at median)')"
            ]
          },
          "execution_count": 105,
          "metadata": {},
          "output_type": "execute_result"
        },
        {
          "data": {
            "image/png": "[encoded data removed]",
            "text/plain": [
              "<Figure size 720x720 with 2 Axes>"
            ]
          },
          "metadata": {
            "filenames": {
              "image/png": "/home/runner/work/mgtecon634_py/mgtecon634_py/_build/jupyter_execute/notebooks/4_heterogeneous_treatment_effect_1_53_1.png"
            },
            "needs_background": "light"
          },
          "output_type": "display_data"
        }
      ],
      "source": [
        "# order dataset\n",
        "df = df.sort_values(by = [\"polviews\",\"age\"], ascending = [False,True])\n",
        "labels = np.array(round(df.tau_hat,2).astype('str') + \"\\n\" + \"(\" + round(df.tau_hat_se, 2).astype('str') + \")\")\n",
        "labels = labels.reshape(7,5) # reshape labels\n",
        "df = df.pivot(\"polviews\",\"age\",\"tau_hat\") # reshape dataset\n",
        "df = df.sort_values(by = [\"polviews\"], ascending = False)\n",
        "\n",
        "cbar_ticks = [-0.4,-0.35,-0.3,-0.25]\n",
        "ax = plt.subplots(figsize=(10, 10))\n",
        "\n",
        "ax = sns.heatmap(df,\n",
        "                 annot=labels,\n",
        "                 annot_kws={\"size\": 12, 'color':\"k\"},\n",
        "                 fmt = '',\n",
        "                 cmap = \"plasma\",\n",
        "                 linewidths=0,\n",
        "                cbar_kws={\"pad\":0.05, \"ticks\": cbar_ticks})\n",
        "cbar = ax.collections[0].colorbar\n",
        "cbar.set_ticklabels(['- 0.4', '- 0.35', '- 0.3', '- 0.25'])\n",
        "plt.xlabel(\"Age\", fontsize= 10)\n",
        "plt.ylabel(\"Polviews\", fontsize= 10)\n",
        "ax.set_title(f\"Predicted treatment effect varying {selected_covariates[0]} and{selected_covariates[1]} (other variables fixed at median)\",\n",
        "             fontsize=10, fontweight = \"bold\")"
      ]
    },
    {
      "cell_type": "markdown",
      "id": "0b924417",
      "metadata": {
        "id": "0b924417"
      },
      "source": [
        "## Further reading\n",
        "\n",
        "A readable summary of different method for hypothesis testing correction is laid out in the introduction to [Clarke, Romano and Wolf (2009)](http://ftp.iza.org/dp12845.pdf).\n",
        "\n",
        "[Athey and Wager (2019)](https://arxiv.org/abs/1902.07409) shows an application of causal forests to heterogeity analysis in a setting with clustering."
      ]
    }
  ],
  "metadata": {
    "kernelspec": {
      "display_name": "Python 3 (ipykernel)",
      "language": "python",
      "name": "python3"
    },
    "language_info": {
      "codemirror_mode": {
        "name": "ipython",
        "version": 3
      },
      "file_extension": ".py",
      "mimetype": "text/x-python",
      "name": "python",
      "nbconvert_exporter": "python",
      "pygments_lexer": "ipython3",
      "version": "3.8.14"
    },
    "colab": {
      "provenance": []
    }
  },
  "nbformat": 4,
  "nbformat_minor": 5
}